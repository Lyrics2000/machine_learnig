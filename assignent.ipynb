{
 "cells": [
  {
   "cell_type": "code",
   "execution_count": 3,
   "id": "ae82fd69",
   "metadata": {},
   "outputs": [],
   "source": [
    "###question1\n"
   ]
  },
  {
   "cell_type": "code",
   "execution_count": 4,
   "id": "6c90063c",
   "metadata": {},
   "outputs": [
    {
     "data": {
      "text/html": [
       "<div>\n",
       "<style scoped>\n",
       "    .dataframe tbody tr th:only-of-type {\n",
       "        vertical-align: middle;\n",
       "    }\n",
       "\n",
       "    .dataframe tbody tr th {\n",
       "        vertical-align: top;\n",
       "    }\n",
       "\n",
       "    .dataframe thead th {\n",
       "        text-align: right;\n",
       "    }\n",
       "</style>\n",
       "<table border=\"1\" class=\"dataframe\">\n",
       "  <thead>\n",
       "    <tr style=\"text-align: right;\">\n",
       "      <th></th>\n",
       "      <th>Unnamed: 0.1</th>\n",
       "      <th>Unnamed: 0</th>\n",
       "      <th>Parcel ID</th>\n",
       "      <th>Land Use</th>\n",
       "      <th>Property Address</th>\n",
       "      <th>Suite/ Condo   #</th>\n",
       "      <th>Property City</th>\n",
       "      <th>Sale Date</th>\n",
       "      <th>Sale Price</th>\n",
       "      <th>Legal Reference</th>\n",
       "      <th>...</th>\n",
       "      <th>Building Value</th>\n",
       "      <th>Total Value</th>\n",
       "      <th>Finished Area</th>\n",
       "      <th>Foundation Type</th>\n",
       "      <th>Year Built</th>\n",
       "      <th>Exterior Wall</th>\n",
       "      <th>Grade</th>\n",
       "      <th>Bedrooms</th>\n",
       "      <th>Full Bath</th>\n",
       "      <th>Half Bath</th>\n",
       "    </tr>\n",
       "  </thead>\n",
       "  <tbody>\n",
       "    <tr>\n",
       "      <th>56631</th>\n",
       "      <td>56631</td>\n",
       "      <td>56631</td>\n",
       "      <td>093 13 0B 274.00</td>\n",
       "      <td>RESIDENTIAL CONDO</td>\n",
       "      <td>320 11TH  AVE S</td>\n",
       "      <td>274.0</td>\n",
       "      <td>NASHVILLE</td>\n",
       "      <td>2016-10-06</td>\n",
       "      <td>210000</td>\n",
       "      <td>20161007-0106599</td>\n",
       "      <td>...</td>\n",
       "      <td>NaN</td>\n",
       "      <td>NaN</td>\n",
       "      <td>NaN</td>\n",
       "      <td>NaN</td>\n",
       "      <td>NaN</td>\n",
       "      <td>NaN</td>\n",
       "      <td>NaN</td>\n",
       "      <td>NaN</td>\n",
       "      <td>NaN</td>\n",
       "      <td>NaN</td>\n",
       "    </tr>\n",
       "    <tr>\n",
       "      <th>56632</th>\n",
       "      <td>56632</td>\n",
       "      <td>56632</td>\n",
       "      <td>093 13 0D 044.00</td>\n",
       "      <td>RESIDENTIAL CONDO</td>\n",
       "      <td>700 12TH  AVE S</td>\n",
       "      <td>608.0</td>\n",
       "      <td>NASHVILLE</td>\n",
       "      <td>2016-10-25</td>\n",
       "      <td>338000</td>\n",
       "      <td>20161101-0115186</td>\n",
       "      <td>...</td>\n",
       "      <td>NaN</td>\n",
       "      <td>NaN</td>\n",
       "      <td>NaN</td>\n",
       "      <td>NaN</td>\n",
       "      <td>NaN</td>\n",
       "      <td>NaN</td>\n",
       "      <td>NaN</td>\n",
       "      <td>NaN</td>\n",
       "      <td>NaN</td>\n",
       "      <td>NaN</td>\n",
       "    </tr>\n",
       "    <tr>\n",
       "      <th>56633</th>\n",
       "      <td>56633</td>\n",
       "      <td>56633</td>\n",
       "      <td>093 13 0D 048.00</td>\n",
       "      <td>RESIDENTIAL CONDO</td>\n",
       "      <td>700 12TH  AVE S</td>\n",
       "      <td>613.0</td>\n",
       "      <td>NASHVILLE</td>\n",
       "      <td>2016-10-04</td>\n",
       "      <td>742000</td>\n",
       "      <td>20161010-0106889</td>\n",
       "      <td>...</td>\n",
       "      <td>NaN</td>\n",
       "      <td>NaN</td>\n",
       "      <td>NaN</td>\n",
       "      <td>NaN</td>\n",
       "      <td>NaN</td>\n",
       "      <td>NaN</td>\n",
       "      <td>NaN</td>\n",
       "      <td>NaN</td>\n",
       "      <td>NaN</td>\n",
       "      <td>NaN</td>\n",
       "    </tr>\n",
       "    <tr>\n",
       "      <th>56634</th>\n",
       "      <td>56634</td>\n",
       "      <td>56634</td>\n",
       "      <td>093 13 0D 056.00</td>\n",
       "      <td>RESIDENTIAL CONDO</td>\n",
       "      <td>700 12TH  AVE S</td>\n",
       "      <td>708.0</td>\n",
       "      <td>NASHVILLE</td>\n",
       "      <td>2016-10-26</td>\n",
       "      <td>320000</td>\n",
       "      <td>20161031-0114730</td>\n",
       "      <td>...</td>\n",
       "      <td>NaN</td>\n",
       "      <td>NaN</td>\n",
       "      <td>NaN</td>\n",
       "      <td>NaN</td>\n",
       "      <td>NaN</td>\n",
       "      <td>NaN</td>\n",
       "      <td>NaN</td>\n",
       "      <td>NaN</td>\n",
       "      <td>NaN</td>\n",
       "      <td>NaN</td>\n",
       "    </tr>\n",
       "    <tr>\n",
       "      <th>56635</th>\n",
       "      <td>56635</td>\n",
       "      <td>56635</td>\n",
       "      <td>093 13 0D 094.00</td>\n",
       "      <td>RESIDENTIAL CONDO</td>\n",
       "      <td>700 12TH  AVE S</td>\n",
       "      <td>1008.0</td>\n",
       "      <td>NASHVILLE</td>\n",
       "      <td>2016-10-27</td>\n",
       "      <td>330000</td>\n",
       "      <td>20161104-0117077</td>\n",
       "      <td>...</td>\n",
       "      <td>NaN</td>\n",
       "      <td>NaN</td>\n",
       "      <td>NaN</td>\n",
       "      <td>NaN</td>\n",
       "      <td>NaN</td>\n",
       "      <td>NaN</td>\n",
       "      <td>NaN</td>\n",
       "      <td>NaN</td>\n",
       "      <td>NaN</td>\n",
       "      <td>NaN</td>\n",
       "    </tr>\n",
       "  </tbody>\n",
       "</table>\n",
       "<p>5 rows × 31 columns</p>\n",
       "</div>"
      ],
      "text/plain": [
       "       Unnamed: 0.1  Unnamed: 0         Parcel ID           Land Use  \\\n",
       "56631         56631       56631  093 13 0B 274.00  RESIDENTIAL CONDO   \n",
       "56632         56632       56632  093 13 0D 044.00  RESIDENTIAL CONDO   \n",
       "56633         56633       56633  093 13 0D 048.00  RESIDENTIAL CONDO   \n",
       "56634         56634       56634  093 13 0D 056.00  RESIDENTIAL CONDO   \n",
       "56635         56635       56635  093 13 0D 094.00  RESIDENTIAL CONDO   \n",
       "\n",
       "      Property Address Suite/ Condo   # Property City   Sale Date  Sale Price  \\\n",
       "56631  320 11TH  AVE S            274.0     NASHVILLE  2016-10-06      210000   \n",
       "56632  700 12TH  AVE S            608.0     NASHVILLE  2016-10-25      338000   \n",
       "56633  700 12TH  AVE S            613.0     NASHVILLE  2016-10-04      742000   \n",
       "56634  700 12TH  AVE S            708.0     NASHVILLE  2016-10-26      320000   \n",
       "56635  700 12TH  AVE S           1008.0     NASHVILLE  2016-10-27      330000   \n",
       "\n",
       "        Legal Reference  ... Building Value Total Value Finished Area  \\\n",
       "56631  20161007-0106599  ...            NaN         NaN           NaN   \n",
       "56632  20161101-0115186  ...            NaN         NaN           NaN   \n",
       "56633  20161010-0106889  ...            NaN         NaN           NaN   \n",
       "56634  20161031-0114730  ...            NaN         NaN           NaN   \n",
       "56635  20161104-0117077  ...            NaN         NaN           NaN   \n",
       "\n",
       "      Foundation Type Year Built Exterior Wall  Grade Bedrooms  Full Bath  \\\n",
       "56631             NaN        NaN           NaN    NaN      NaN        NaN   \n",
       "56632             NaN        NaN           NaN    NaN      NaN        NaN   \n",
       "56633             NaN        NaN           NaN    NaN      NaN        NaN   \n",
       "56634             NaN        NaN           NaN    NaN      NaN        NaN   \n",
       "56635             NaN        NaN           NaN    NaN      NaN        NaN   \n",
       "\n",
       "      Half Bath  \n",
       "56631       NaN  \n",
       "56632       NaN  \n",
       "56633       NaN  \n",
       "56634       NaN  \n",
       "56635       NaN  \n",
       "\n",
       "[5 rows x 31 columns]"
      ]
     },
     "execution_count": 4,
     "metadata": {},
     "output_type": "execute_result"
    }
   ],
   "source": [
    "#import data\n",
    "import pandas as pd\n",
    "data = pd.read_csv(\"data.csv\")\n",
    "#printing the last details\n",
    "data.tail(5)\n",
    "\n"
   ]
  },
  {
   "cell_type": "code",
   "execution_count": 5,
   "id": "974c6709",
   "metadata": {},
   "outputs": [
    {
     "data": {
      "text/html": [
       "<div>\n",
       "<style scoped>\n",
       "    .dataframe tbody tr th:only-of-type {\n",
       "        vertical-align: middle;\n",
       "    }\n",
       "\n",
       "    .dataframe tbody tr th {\n",
       "        vertical-align: top;\n",
       "    }\n",
       "\n",
       "    .dataframe thead th {\n",
       "        text-align: right;\n",
       "    }\n",
       "</style>\n",
       "<table border=\"1\" class=\"dataframe\">\n",
       "  <thead>\n",
       "    <tr style=\"text-align: right;\">\n",
       "      <th></th>\n",
       "      <th>Sale Date</th>\n",
       "      <th>Sale Price</th>\n",
       "    </tr>\n",
       "  </thead>\n",
       "  <tbody>\n",
       "    <tr>\n",
       "      <th>0</th>\n",
       "      <td>2013-01-24</td>\n",
       "      <td>132000</td>\n",
       "    </tr>\n",
       "    <tr>\n",
       "      <th>1</th>\n",
       "      <td>2013-01-11</td>\n",
       "      <td>191500</td>\n",
       "    </tr>\n",
       "    <tr>\n",
       "      <th>2</th>\n",
       "      <td>2013-01-18</td>\n",
       "      <td>202000</td>\n",
       "    </tr>\n",
       "    <tr>\n",
       "      <th>3</th>\n",
       "      <td>2013-01-18</td>\n",
       "      <td>32000</td>\n",
       "    </tr>\n",
       "    <tr>\n",
       "      <th>4</th>\n",
       "      <td>2013-01-23</td>\n",
       "      <td>102000</td>\n",
       "    </tr>\n",
       "    <tr>\n",
       "      <th>...</th>\n",
       "      <td>...</td>\n",
       "      <td>...</td>\n",
       "    </tr>\n",
       "    <tr>\n",
       "      <th>56631</th>\n",
       "      <td>2016-10-06</td>\n",
       "      <td>210000</td>\n",
       "    </tr>\n",
       "    <tr>\n",
       "      <th>56632</th>\n",
       "      <td>2016-10-25</td>\n",
       "      <td>338000</td>\n",
       "    </tr>\n",
       "    <tr>\n",
       "      <th>56633</th>\n",
       "      <td>2016-10-04</td>\n",
       "      <td>742000</td>\n",
       "    </tr>\n",
       "    <tr>\n",
       "      <th>56634</th>\n",
       "      <td>2016-10-26</td>\n",
       "      <td>320000</td>\n",
       "    </tr>\n",
       "    <tr>\n",
       "      <th>56635</th>\n",
       "      <td>2016-10-27</td>\n",
       "      <td>330000</td>\n",
       "    </tr>\n",
       "  </tbody>\n",
       "</table>\n",
       "<p>56636 rows × 2 columns</p>\n",
       "</div>"
      ],
      "text/plain": [
       "        Sale Date  Sale Price\n",
       "0      2013-01-24      132000\n",
       "1      2013-01-11      191500\n",
       "2      2013-01-18      202000\n",
       "3      2013-01-18       32000\n",
       "4      2013-01-23      102000\n",
       "...           ...         ...\n",
       "56631  2016-10-06      210000\n",
       "56632  2016-10-25      338000\n",
       "56633  2016-10-04      742000\n",
       "56634  2016-10-26      320000\n",
       "56635  2016-10-27      330000\n",
       "\n",
       "[56636 rows x 2 columns]"
      ]
     },
     "execution_count": 5,
     "metadata": {},
     "output_type": "execute_result"
    }
   ],
   "source": [
    "# converting the data into dataframe\n",
    "# for prediction we need to get the timeseries data\n",
    "#we shall use sale price and sale date as our time series data for analysis\n",
    "\n",
    "df  =  pd.DataFrame(data)\n",
    "needed_data  = df.iloc[:, [7, 8]]\n",
    "needed_data\n"
   ]
  },
  {
   "cell_type": "markdown",
   "id": "3b4f10f4",
   "metadata": {},
   "source": [
    "## preparation for Linear regression\n",
    "\n",
    "before preparing for any model we have to check if its assumptions are completed\n",
    "### the assumptions for Linear regression model are as follows\n",
    "- Assumptions of Normality\n",
    "- Assumptions of Homogeneity of Variance\n",
    "- Assumption of the Absence of Multicollinearity\n",
    "- Assumption of the Absence of Auto-Correlation:\n",
    "\n",
    "\n",
    "before we continue we need to remove all null values from our model\n"
   ]
  },
  {
   "cell_type": "code",
   "execution_count": 6,
   "id": "804499f4",
   "metadata": {},
   "outputs": [
    {
     "data": {
      "text/html": [
       "<div>\n",
       "<style scoped>\n",
       "    .dataframe tbody tr th:only-of-type {\n",
       "        vertical-align: middle;\n",
       "    }\n",
       "\n",
       "    .dataframe tbody tr th {\n",
       "        vertical-align: top;\n",
       "    }\n",
       "\n",
       "    .dataframe thead th {\n",
       "        text-align: right;\n",
       "    }\n",
       "</style>\n",
       "<table border=\"1\" class=\"dataframe\">\n",
       "  <thead>\n",
       "    <tr style=\"text-align: right;\">\n",
       "      <th></th>\n",
       "      <th>Sale Date</th>\n",
       "      <th>Sale Price</th>\n",
       "    </tr>\n",
       "  </thead>\n",
       "  <tbody>\n",
       "    <tr>\n",
       "      <th>0</th>\n",
       "      <td>2013-01-24</td>\n",
       "      <td>132000</td>\n",
       "    </tr>\n",
       "    <tr>\n",
       "      <th>1</th>\n",
       "      <td>2013-01-11</td>\n",
       "      <td>191500</td>\n",
       "    </tr>\n",
       "    <tr>\n",
       "      <th>2</th>\n",
       "      <td>2013-01-18</td>\n",
       "      <td>202000</td>\n",
       "    </tr>\n",
       "    <tr>\n",
       "      <th>3</th>\n",
       "      <td>2013-01-18</td>\n",
       "      <td>32000</td>\n",
       "    </tr>\n",
       "    <tr>\n",
       "      <th>4</th>\n",
       "      <td>2013-01-23</td>\n",
       "      <td>102000</td>\n",
       "    </tr>\n",
       "    <tr>\n",
       "      <th>...</th>\n",
       "      <td>...</td>\n",
       "      <td>...</td>\n",
       "    </tr>\n",
       "    <tr>\n",
       "      <th>56631</th>\n",
       "      <td>2016-10-06</td>\n",
       "      <td>210000</td>\n",
       "    </tr>\n",
       "    <tr>\n",
       "      <th>56632</th>\n",
       "      <td>2016-10-25</td>\n",
       "      <td>338000</td>\n",
       "    </tr>\n",
       "    <tr>\n",
       "      <th>56633</th>\n",
       "      <td>2016-10-04</td>\n",
       "      <td>742000</td>\n",
       "    </tr>\n",
       "    <tr>\n",
       "      <th>56634</th>\n",
       "      <td>2016-10-26</td>\n",
       "      <td>320000</td>\n",
       "    </tr>\n",
       "    <tr>\n",
       "      <th>56635</th>\n",
       "      <td>2016-10-27</td>\n",
       "      <td>330000</td>\n",
       "    </tr>\n",
       "  </tbody>\n",
       "</table>\n",
       "<p>56636 rows × 2 columns</p>\n",
       "</div>"
      ],
      "text/plain": [
       "        Sale Date  Sale Price\n",
       "0      2013-01-24      132000\n",
       "1      2013-01-11      191500\n",
       "2      2013-01-18      202000\n",
       "3      2013-01-18       32000\n",
       "4      2013-01-23      102000\n",
       "...           ...         ...\n",
       "56631  2016-10-06      210000\n",
       "56632  2016-10-25      338000\n",
       "56633  2016-10-04      742000\n",
       "56634  2016-10-26      320000\n",
       "56635  2016-10-27      330000\n",
       "\n",
       "[56636 rows x 2 columns]"
      ]
     },
     "execution_count": 6,
     "metadata": {},
     "output_type": "execute_result"
    }
   ],
   "source": [
    "droped_na = needed_data.dropna()\n",
    "droped_na"
   ]
  },
  {
   "cell_type": "markdown",
   "id": "17371d4e",
   "metadata": {},
   "source": [
    "- the next step is to visualize the data using matploit lib to check on the trend of the data"
   ]
  },
  {
   "cell_type": "code",
   "execution_count": 7,
   "id": "b1bc2077",
   "metadata": {},
   "outputs": [
    {
     "name": "stderr",
     "output_type": "stream",
     "text": [
      "/home/lyrics/Desktop/client_project/machine_learning/4_5866234725659577923/env/lib/python3.10/site-packages/seaborn/distributions.py:2619: FutureWarning: `distplot` is a deprecated function and will be removed in a future version. Please adapt your code to use either `displot` (a figure-level function with similar flexibility) or `histplot` (an axes-level function for histograms).\n",
      "  warnings.warn(msg, FutureWarning)\n"
     ]
    },
    {
     "data": {
      "text/plain": [
       "<AxesSubplot:xlabel='Sale Price', ylabel='Density'>"
      ]
     },
     "execution_count": 7,
     "metadata": {},
     "output_type": "execute_result"
    },
    {
     "data": {
      "image/png": "[encoded data removed]",
      "text/plain": [
       "<Figure size 432x288 with 1 Axes>"
      ]
     },
     "metadata": {
      "needs_background": "light"
     },
     "output_type": "display_data"
    }
   ],
   "source": [
    "#import relevant stuff\n",
    "import seaborn as snb\n",
    "ax  =  snb.distplot(droped_na['Sale Price'])\n",
    "ax"
   ]
  },
  {
   "cell_type": "code",
   "execution_count": null,
   "id": "9b220aae",
   "metadata": {},
   "outputs": [],
   "source": []
  },
  {
   "cell_type": "markdown",
   "id": "3b718f9a",
   "metadata": {},
   "source": [
    "# testing assumptions\n",
    "before we begin we need to make sure our assumptions are satisfied\n",
    "- for normality using Kolmogorov-Smirnov test for Normality"
   ]
  },
  {
   "cell_type": "code",
   "execution_count": 8,
   "id": "3aa7cff5",
   "metadata": {},
   "outputs": [],
   "source": [
    "from scipy.stats import kstest\n"
   ]
  },
  {
   "cell_type": "code",
   "execution_count": 9,
   "id": "3941b621",
   "metadata": {},
   "outputs": [
    {
     "name": "stdout",
     "output_type": "stream",
     "text": [
      "normally distributed\n"
     ]
    }
   ],
   "source": [
    "statistics,pvalue  = kstest(droped_na['Sale Price'],'norm')\n",
    "\n",
    "if pvalue > 0.05 :\n",
    "    print(\"not normally distributed\")\n",
    "elif pvalue < 0.05:\n",
    "    print(\"normally distributed\")\n",
    "    "
   ]
  },
  {
   "cell_type": "markdown",
   "id": "1d5f2aa5",
   "metadata": {},
   "source": [
    "> since the data is normally distributed we go to the next assumption\n",
    "\n",
    "- test for absence of auto-correlation"
   ]
  },
  {
   "cell_type": "code",
   "execution_count": 10,
   "id": "4b3b6cae",
   "metadata": {},
   "outputs": [],
   "source": [
    "# import relevant libraries\n",
    "import matplotlib.pyplot as plt\n",
    "import statsmodels.api as sm\n",
    "from statsmodels.stats.stattools import durbin_watson\n",
    "from statsmodels.regression.linear_model import OLS\n",
    "from statsmodels.graphics.tsaplots import plot_acf , plot_pacf"
   ]
  },
  {
   "cell_type": "code",
   "execution_count": 11,
   "id": "8a3d3915",
   "metadata": {},
   "outputs": [
    {
     "data": {
      "image/png": "[encoded data removed]",
      "text/plain": [
       "<Figure size 432x288 with 1 Axes>"
      ]
     },
     "metadata": {
      "needs_background": "light"
     },
     "output_type": "display_data"
    }
   ],
   "source": [
    "# Plot the autocorrelation for sale price data with 0.05 significance level\n",
    "plot_acf(droped_na['Sale Price'], alpha =0.05)\n",
    "plt.show()"
   ]
  },
  {
   "cell_type": "markdown",
   "id": "fc47f1c4",
   "metadata": {},
   "source": [
    "Above is the autocorrelation plot for different lags. Here, we can see that there is some autocorrelation for significance level 0.05."
   ]
  },
  {
   "cell_type": "code",
   "execution_count": 12,
   "id": "9a6cca47",
   "metadata": {
    "scrolled": true
   },
   "outputs": [
    {
     "name": "stderr",
     "output_type": "stream",
     "text": [
      "/home/lyrics/Desktop/client_project/machine_learning/4_5866234725659577923/env/lib/python3.10/site-packages/statsmodels/graphics/tsaplots.py:348: FutureWarning: The default method 'yw' can produce PACF values outside of the [-1,1] interval. After 0.13, the default will change tounadjusted Yule-Walker ('ywm'). You can use this method now by setting method='ywm'.\n",
      "  warnings.warn(\n"
     ]
    },
    {
     "data": {
      "image/png": "[encoded data removed]",
      "text/plain": [
       "<Figure size 432x288 with 1 Axes>"
      ]
     },
     "metadata": {
      "needs_background": "light"
     },
     "output_type": "display_data"
    }
   ],
   "source": [
    "# Plot the partial autocorrelation for sale price data with \n",
    "# 0.05 significance level\n",
    "plot_pacf(droped_na['Sale Price'], alpha =0.05, lags=50)\n",
    "plt.show()"
   ]
  },
  {
   "cell_type": "markdown",
   "id": "1673020a",
   "metadata": {},
   "source": [
    "From the partial autocorrelation, Here, we can see for a 0.05 level of significance there is some partial autocorrelation for the different values of lags. For lag 0 the 100% partial autocorrelation is obvious but for lag 1 also the partial autocorrelation is very high."
   ]
  },
  {
   "cell_type": "markdown",
   "id": "9bb0153c",
   "metadata": {},
   "source": [
    "### fiting linear regression model"
   ]
  },
  {
   "cell_type": "markdown",
   "id": "c343ac8e",
   "metadata": {},
   "source": [
    "- convert sale date to date \n"
   ]
  },
  {
   "cell_type": "code",
   "execution_count": 13,
   "id": "76d8a2bd",
   "metadata": {},
   "outputs": [
    {
     "data": {
      "text/html": [
       "<div>\n",
       "<style scoped>\n",
       "    .dataframe tbody tr th:only-of-type {\n",
       "        vertical-align: middle;\n",
       "    }\n",
       "\n",
       "    .dataframe tbody tr th {\n",
       "        vertical-align: top;\n",
       "    }\n",
       "\n",
       "    .dataframe thead th {\n",
       "        text-align: right;\n",
       "    }\n",
       "</style>\n",
       "<table border=\"1\" class=\"dataframe\">\n",
       "  <thead>\n",
       "    <tr style=\"text-align: right;\">\n",
       "      <th></th>\n",
       "      <th>Sale Date</th>\n",
       "      <th>Sale Price</th>\n",
       "      <th>Converted</th>\n",
       "    </tr>\n",
       "  </thead>\n",
       "  <tbody>\n",
       "    <tr>\n",
       "      <th>0</th>\n",
       "      <td>2013-01-24</td>\n",
       "      <td>132000</td>\n",
       "      <td>2013-01-24</td>\n",
       "    </tr>\n",
       "    <tr>\n",
       "      <th>1</th>\n",
       "      <td>2013-01-11</td>\n",
       "      <td>191500</td>\n",
       "      <td>2013-01-11</td>\n",
       "    </tr>\n",
       "    <tr>\n",
       "      <th>2</th>\n",
       "      <td>2013-01-18</td>\n",
       "      <td>202000</td>\n",
       "      <td>2013-01-18</td>\n",
       "    </tr>\n",
       "    <tr>\n",
       "      <th>3</th>\n",
       "      <td>2013-01-18</td>\n",
       "      <td>32000</td>\n",
       "      <td>2013-01-18</td>\n",
       "    </tr>\n",
       "    <tr>\n",
       "      <th>4</th>\n",
       "      <td>2013-01-23</td>\n",
       "      <td>102000</td>\n",
       "      <td>2013-01-23</td>\n",
       "    </tr>\n",
       "    <tr>\n",
       "      <th>...</th>\n",
       "      <td>...</td>\n",
       "      <td>...</td>\n",
       "      <td>...</td>\n",
       "    </tr>\n",
       "    <tr>\n",
       "      <th>56631</th>\n",
       "      <td>2016-10-06</td>\n",
       "      <td>210000</td>\n",
       "      <td>2016-10-06</td>\n",
       "    </tr>\n",
       "    <tr>\n",
       "      <th>56632</th>\n",
       "      <td>2016-10-25</td>\n",
       "      <td>338000</td>\n",
       "      <td>2016-10-25</td>\n",
       "    </tr>\n",
       "    <tr>\n",
       "      <th>56633</th>\n",
       "      <td>2016-10-04</td>\n",
       "      <td>742000</td>\n",
       "      <td>2016-10-04</td>\n",
       "    </tr>\n",
       "    <tr>\n",
       "      <th>56634</th>\n",
       "      <td>2016-10-26</td>\n",
       "      <td>320000</td>\n",
       "      <td>2016-10-26</td>\n",
       "    </tr>\n",
       "    <tr>\n",
       "      <th>56635</th>\n",
       "      <td>2016-10-27</td>\n",
       "      <td>330000</td>\n",
       "      <td>2016-10-27</td>\n",
       "    </tr>\n",
       "  </tbody>\n",
       "</table>\n",
       "<p>56636 rows × 3 columns</p>\n",
       "</div>"
      ],
      "text/plain": [
       "        Sale Date  Sale Price  Converted\n",
       "0      2013-01-24      132000 2013-01-24\n",
       "1      2013-01-11      191500 2013-01-11\n",
       "2      2013-01-18      202000 2013-01-18\n",
       "3      2013-01-18       32000 2013-01-18\n",
       "4      2013-01-23      102000 2013-01-23\n",
       "...           ...         ...        ...\n",
       "56631  2016-10-06      210000 2016-10-06\n",
       "56632  2016-10-25      338000 2016-10-25\n",
       "56633  2016-10-04      742000 2016-10-04\n",
       "56634  2016-10-26      320000 2016-10-26\n",
       "56635  2016-10-27      330000 2016-10-27\n",
       "\n",
       "[56636 rows x 3 columns]"
      ]
     },
     "execution_count": 13,
     "metadata": {},
     "output_type": "execute_result"
    }
   ],
   "source": [
    "droped_na['Converted'] = pd.to_datetime(droped_na['Sale Date'])\n",
    "droped_na"
   ]
  },
  {
   "cell_type": "markdown",
   "id": "e8efb6eb",
   "metadata": {},
   "source": [
    "- convert datetime object to float64 object"
   ]
  },
  {
   "cell_type": "code",
   "execution_count": 14,
   "id": "690d61ed",
   "metadata": {},
   "outputs": [
    {
     "data": {
      "text/html": [
       "<div>\n",
       "<style scoped>\n",
       "    .dataframe tbody tr th:only-of-type {\n",
       "        vertical-align: middle;\n",
       "    }\n",
       "\n",
       "    .dataframe tbody tr th {\n",
       "        vertical-align: top;\n",
       "    }\n",
       "\n",
       "    .dataframe thead th {\n",
       "        text-align: right;\n",
       "    }\n",
       "</style>\n",
       "<table border=\"1\" class=\"dataframe\">\n",
       "  <thead>\n",
       "    <tr style=\"text-align: right;\">\n",
       "      <th></th>\n",
       "      <th>Sale Date</th>\n",
       "      <th>Sale Price</th>\n",
       "    </tr>\n",
       "    <tr>\n",
       "      <th>Converted</th>\n",
       "      <th></th>\n",
       "      <th></th>\n",
       "    </tr>\n",
       "  </thead>\n",
       "  <tbody>\n",
       "    <tr>\n",
       "      <th>2013-01-24</th>\n",
       "      <td>2013-01-24</td>\n",
       "      <td>132000</td>\n",
       "    </tr>\n",
       "    <tr>\n",
       "      <th>2013-01-11</th>\n",
       "      <td>2013-01-11</td>\n",
       "      <td>191500</td>\n",
       "    </tr>\n",
       "    <tr>\n",
       "      <th>2013-01-18</th>\n",
       "      <td>2013-01-18</td>\n",
       "      <td>202000</td>\n",
       "    </tr>\n",
       "    <tr>\n",
       "      <th>2013-01-18</th>\n",
       "      <td>2013-01-18</td>\n",
       "      <td>32000</td>\n",
       "    </tr>\n",
       "    <tr>\n",
       "      <th>2013-01-23</th>\n",
       "      <td>2013-01-23</td>\n",
       "      <td>102000</td>\n",
       "    </tr>\n",
       "    <tr>\n",
       "      <th>...</th>\n",
       "      <td>...</td>\n",
       "      <td>...</td>\n",
       "    </tr>\n",
       "    <tr>\n",
       "      <th>2016-10-06</th>\n",
       "      <td>2016-10-06</td>\n",
       "      <td>210000</td>\n",
       "    </tr>\n",
       "    <tr>\n",
       "      <th>2016-10-25</th>\n",
       "      <td>2016-10-25</td>\n",
       "      <td>338000</td>\n",
       "    </tr>\n",
       "    <tr>\n",
       "      <th>2016-10-04</th>\n",
       "      <td>2016-10-04</td>\n",
       "      <td>742000</td>\n",
       "    </tr>\n",
       "    <tr>\n",
       "      <th>2016-10-26</th>\n",
       "      <td>2016-10-26</td>\n",
       "      <td>320000</td>\n",
       "    </tr>\n",
       "    <tr>\n",
       "      <th>2016-10-27</th>\n",
       "      <td>2016-10-27</td>\n",
       "      <td>330000</td>\n",
       "    </tr>\n",
       "  </tbody>\n",
       "</table>\n",
       "<p>56636 rows × 2 columns</p>\n",
       "</div>"
      ],
      "text/plain": [
       "             Sale Date  Sale Price\n",
       "Converted                         \n",
       "2013-01-24  2013-01-24      132000\n",
       "2013-01-11  2013-01-11      191500\n",
       "2013-01-18  2013-01-18      202000\n",
       "2013-01-18  2013-01-18       32000\n",
       "2013-01-23  2013-01-23      102000\n",
       "...                ...         ...\n",
       "2016-10-06  2016-10-06      210000\n",
       "2016-10-25  2016-10-25      338000\n",
       "2016-10-04  2016-10-04      742000\n",
       "2016-10-26  2016-10-26      320000\n",
       "2016-10-27  2016-10-27      330000\n",
       "\n",
       "[56636 rows x 2 columns]"
      ]
     },
     "execution_count": 14,
     "metadata": {},
     "output_type": "execute_result"
    }
   ],
   "source": [
    "dff = droped_na.set_index('Converted', append=False)\n",
    "dff"
   ]
  },
  {
   "cell_type": "markdown",
   "id": "e8954b4f",
   "metadata": {},
   "source": [
    "- convert datetime object to float64 object"
   ]
  },
  {
   "cell_type": "code",
   "execution_count": 15,
   "id": "7bc370b3",
   "metadata": {},
   "outputs": [
    {
     "data": {
      "text/plain": [
       "Float64Index([2456316.5, 2456303.5, 2456310.5, 2456310.5, 2456315.5, 2456296.5,\n",
       "              2456299.5, 2456307.5, 2456317.5, 2456301.5,\n",
       "              ...\n",
       "              2457681.5, 2457682.5, 2457672.5, 2457664.5, 2457675.5, 2457667.5,\n",
       "              2457686.5, 2457665.5, 2457687.5, 2457688.5],\n",
       "             dtype='float64', name='Converted', length=56636)"
      ]
     },
     "execution_count": 15,
     "metadata": {},
     "output_type": "execute_result"
    }
   ],
   "source": [
    "dff = dff.index.to_julian_date()\n",
    "dff"
   ]
  },
  {
   "cell_type": "code",
   "execution_count": 16,
   "id": "80f12e47",
   "metadata": {},
   "outputs": [],
   "source": [
    "#import relevant stuff\n",
    "import numpy as np\n",
    "import matplotlib.pyplot as plt\n",
    "import pandas as pd\n",
    "from sklearn.linear_model import LinearRegression\n",
    "import datetime as dt"
   ]
  },
  {
   "cell_type": "code",
   "execution_count": 17,
   "id": "5b6e4e07",
   "metadata": {},
   "outputs": [
    {
     "data": {
      "text/html": [
       "<div>\n",
       "<style scoped>\n",
       "    .dataframe tbody tr th:only-of-type {\n",
       "        vertical-align: middle;\n",
       "    }\n",
       "\n",
       "    .dataframe tbody tr th {\n",
       "        vertical-align: top;\n",
       "    }\n",
       "\n",
       "    .dataframe thead th {\n",
       "        text-align: right;\n",
       "    }\n",
       "</style>\n",
       "<table border=\"1\" class=\"dataframe\">\n",
       "  <thead>\n",
       "    <tr style=\"text-align: right;\">\n",
       "      <th></th>\n",
       "      <th>Sale Date</th>\n",
       "      <th>Sale Price</th>\n",
       "      <th>Converted</th>\n",
       "      <th>New Line</th>\n",
       "    </tr>\n",
       "  </thead>\n",
       "  <tbody>\n",
       "    <tr>\n",
       "      <th>0</th>\n",
       "      <td>2013-01-24</td>\n",
       "      <td>132000</td>\n",
       "      <td>2013-01-24</td>\n",
       "      <td>734892</td>\n",
       "    </tr>\n",
       "    <tr>\n",
       "      <th>1</th>\n",
       "      <td>2013-01-11</td>\n",
       "      <td>191500</td>\n",
       "      <td>2013-01-11</td>\n",
       "      <td>734879</td>\n",
       "    </tr>\n",
       "    <tr>\n",
       "      <th>2</th>\n",
       "      <td>2013-01-18</td>\n",
       "      <td>202000</td>\n",
       "      <td>2013-01-18</td>\n",
       "      <td>734886</td>\n",
       "    </tr>\n",
       "    <tr>\n",
       "      <th>3</th>\n",
       "      <td>2013-01-18</td>\n",
       "      <td>32000</td>\n",
       "      <td>2013-01-18</td>\n",
       "      <td>734886</td>\n",
       "    </tr>\n",
       "    <tr>\n",
       "      <th>4</th>\n",
       "      <td>2013-01-23</td>\n",
       "      <td>102000</td>\n",
       "      <td>2013-01-23</td>\n",
       "      <td>734891</td>\n",
       "    </tr>\n",
       "    <tr>\n",
       "      <th>...</th>\n",
       "      <td>...</td>\n",
       "      <td>...</td>\n",
       "      <td>...</td>\n",
       "      <td>...</td>\n",
       "    </tr>\n",
       "    <tr>\n",
       "      <th>56631</th>\n",
       "      <td>2016-10-06</td>\n",
       "      <td>210000</td>\n",
       "      <td>2016-10-06</td>\n",
       "      <td>736243</td>\n",
       "    </tr>\n",
       "    <tr>\n",
       "      <th>56632</th>\n",
       "      <td>2016-10-25</td>\n",
       "      <td>338000</td>\n",
       "      <td>2016-10-25</td>\n",
       "      <td>736262</td>\n",
       "    </tr>\n",
       "    <tr>\n",
       "      <th>56633</th>\n",
       "      <td>2016-10-04</td>\n",
       "      <td>742000</td>\n",
       "      <td>2016-10-04</td>\n",
       "      <td>736241</td>\n",
       "    </tr>\n",
       "    <tr>\n",
       "      <th>56634</th>\n",
       "      <td>2016-10-26</td>\n",
       "      <td>320000</td>\n",
       "      <td>2016-10-26</td>\n",
       "      <td>736263</td>\n",
       "    </tr>\n",
       "    <tr>\n",
       "      <th>56635</th>\n",
       "      <td>2016-10-27</td>\n",
       "      <td>330000</td>\n",
       "      <td>2016-10-27</td>\n",
       "      <td>736264</td>\n",
       "    </tr>\n",
       "  </tbody>\n",
       "</table>\n",
       "<p>56636 rows × 4 columns</p>\n",
       "</div>"
      ],
      "text/plain": [
       "        Sale Date  Sale Price  Converted  New Line\n",
       "0      2013-01-24      132000 2013-01-24    734892\n",
       "1      2013-01-11      191500 2013-01-11    734879\n",
       "2      2013-01-18      202000 2013-01-18    734886\n",
       "3      2013-01-18       32000 2013-01-18    734886\n",
       "4      2013-01-23      102000 2013-01-23    734891\n",
       "...           ...         ...        ...       ...\n",
       "56631  2016-10-06      210000 2016-10-06    736243\n",
       "56632  2016-10-25      338000 2016-10-25    736262\n",
       "56633  2016-10-04      742000 2016-10-04    736241\n",
       "56634  2016-10-26      320000 2016-10-26    736263\n",
       "56635  2016-10-27      330000 2016-10-27    736264\n",
       "\n",
       "[56636 rows x 4 columns]"
      ]
     },
     "execution_count": 17,
     "metadata": {},
     "output_type": "execute_result"
    }
   ],
   "source": [
    "droped_na['New Line'] = droped_na['Converted'].map(dt.datetime.toordinal)\n",
    "droped_na"
   ]
  },
  {
   "cell_type": "code",
   "execution_count": 18,
   "id": "adf51a80",
   "metadata": {},
   "outputs": [
    {
     "data": {
      "text/plain": [
       "array([[734892],\n",
       "       [734879],\n",
       "       [734886],\n",
       "       ...,\n",
       "       [736241],\n",
       "       [736263],\n",
       "       [736264]])"
      ]
     },
     "execution_count": 18,
     "metadata": {},
     "output_type": "execute_result"
    }
   ],
   "source": [
    "x = droped_na['New Line'].values.reshape(-1,1)\n",
    "x"
   ]
  },
  {
   "cell_type": "code",
   "execution_count": 19,
   "id": "13d8ae28",
   "metadata": {},
   "outputs": [
    {
     "data": {
      "text/plain": [
       "array([[132000],\n",
       "       [191500],\n",
       "       [202000],\n",
       "       ...,\n",
       "       [742000],\n",
       "       [320000],\n",
       "       [330000]])"
      ]
     },
     "execution_count": 19,
     "metadata": {},
     "output_type": "execute_result"
    }
   ],
   "source": [
    "#getting x and y cordinate from data\n",
    "\n",
    "y = droped_na['Sale Price'].values.reshape(-1,1)\n",
    "y\n"
   ]
  },
  {
   "cell_type": "code",
   "execution_count": 55,
   "id": "e1d58984",
   "metadata": {},
   "outputs": [
    {
     "data": {
      "text/plain": [
       "array([[-30666566.57696049],\n",
       "       [-27611535.04415427],\n",
       "       [-27072411.83248258],\n",
       "       ...,\n",
       "       [   653924.76777556],\n",
       "       [-21013693.8346484 ],\n",
       "       [-20500243.15686584]])"
      ]
     },
     "execution_count": 55,
     "metadata": {},
     "output_type": "execute_result"
    }
   ],
   "source": [
    "regressor = LinearRegression()\n",
    "regressor.fit(x,y)\n",
    "lr = LinearRegression().fit(x,y)\n",
    "predicted_linear = lr.predict(y)\n",
    "predicted_linear "
   ]
  },
  {
   "cell_type": "markdown",
   "id": "e852a278",
   "metadata": {},
   "source": [
    "# Decision Tree Model"
   ]
  },
  {
   "cell_type": "markdown",
   "id": "3e93b13f",
   "metadata": {},
   "source": [
    "the first thing we do is get important attributes that will help in decion from our datase into a dataframe\n"
   ]
  },
  {
   "cell_type": "code",
   "execution_count": 21,
   "id": "31cabe4c",
   "metadata": {},
   "outputs": [
    {
     "data": {
      "text/html": [
       "<div>\n",
       "<style scoped>\n",
       "    .dataframe tbody tr th:only-of-type {\n",
       "        vertical-align: middle;\n",
       "    }\n",
       "\n",
       "    .dataframe tbody tr th {\n",
       "        vertical-align: top;\n",
       "    }\n",
       "\n",
       "    .dataframe thead th {\n",
       "        text-align: right;\n",
       "    }\n",
       "</style>\n",
       "<table border=\"1\" class=\"dataframe\">\n",
       "  <thead>\n",
       "    <tr style=\"text-align: right;\">\n",
       "      <th></th>\n",
       "      <th>Land Use</th>\n",
       "      <th>Property Address</th>\n",
       "      <th>Suite/ Condo   #</th>\n",
       "      <th>Property City</th>\n",
       "      <th>Sale Date</th>\n",
       "      <th>Sale Price</th>\n",
       "    </tr>\n",
       "  </thead>\n",
       "  <tbody>\n",
       "    <tr>\n",
       "      <th>0</th>\n",
       "      <td>RESIDENTIAL CONDO</td>\n",
       "      <td>1208  3RD AVE S</td>\n",
       "      <td>8</td>\n",
       "      <td>NASHVILLE</td>\n",
       "      <td>2013-01-24</td>\n",
       "      <td>132000</td>\n",
       "    </tr>\n",
       "    <tr>\n",
       "      <th>1</th>\n",
       "      <td>SINGLE FAMILY</td>\n",
       "      <td>1802  STEWART PL</td>\n",
       "      <td>NaN</td>\n",
       "      <td>NASHVILLE</td>\n",
       "      <td>2013-01-11</td>\n",
       "      <td>191500</td>\n",
       "    </tr>\n",
       "    <tr>\n",
       "      <th>2</th>\n",
       "      <td>SINGLE FAMILY</td>\n",
       "      <td>2761  ROSEDALE PL</td>\n",
       "      <td>NaN</td>\n",
       "      <td>NASHVILLE</td>\n",
       "      <td>2013-01-18</td>\n",
       "      <td>202000</td>\n",
       "    </tr>\n",
       "    <tr>\n",
       "      <th>3</th>\n",
       "      <td>SINGLE FAMILY</td>\n",
       "      <td>224  PEACHTREE ST</td>\n",
       "      <td>NaN</td>\n",
       "      <td>NASHVILLE</td>\n",
       "      <td>2013-01-18</td>\n",
       "      <td>32000</td>\n",
       "    </tr>\n",
       "    <tr>\n",
       "      <th>4</th>\n",
       "      <td>SINGLE FAMILY</td>\n",
       "      <td>316  LUTIE ST</td>\n",
       "      <td>NaN</td>\n",
       "      <td>NASHVILLE</td>\n",
       "      <td>2013-01-23</td>\n",
       "      <td>102000</td>\n",
       "    </tr>\n",
       "    <tr>\n",
       "      <th>...</th>\n",
       "      <td>...</td>\n",
       "      <td>...</td>\n",
       "      <td>...</td>\n",
       "      <td>...</td>\n",
       "      <td>...</td>\n",
       "      <td>...</td>\n",
       "    </tr>\n",
       "    <tr>\n",
       "      <th>56631</th>\n",
       "      <td>RESIDENTIAL CONDO</td>\n",
       "      <td>320 11TH  AVE S</td>\n",
       "      <td>274.0</td>\n",
       "      <td>NASHVILLE</td>\n",
       "      <td>2016-10-06</td>\n",
       "      <td>210000</td>\n",
       "    </tr>\n",
       "    <tr>\n",
       "      <th>56632</th>\n",
       "      <td>RESIDENTIAL CONDO</td>\n",
       "      <td>700 12TH  AVE S</td>\n",
       "      <td>608.0</td>\n",
       "      <td>NASHVILLE</td>\n",
       "      <td>2016-10-25</td>\n",
       "      <td>338000</td>\n",
       "    </tr>\n",
       "    <tr>\n",
       "      <th>56633</th>\n",
       "      <td>RESIDENTIAL CONDO</td>\n",
       "      <td>700 12TH  AVE S</td>\n",
       "      <td>613.0</td>\n",
       "      <td>NASHVILLE</td>\n",
       "      <td>2016-10-04</td>\n",
       "      <td>742000</td>\n",
       "    </tr>\n",
       "    <tr>\n",
       "      <th>56634</th>\n",
       "      <td>RESIDENTIAL CONDO</td>\n",
       "      <td>700 12TH  AVE S</td>\n",
       "      <td>708.0</td>\n",
       "      <td>NASHVILLE</td>\n",
       "      <td>2016-10-26</td>\n",
       "      <td>320000</td>\n",
       "    </tr>\n",
       "    <tr>\n",
       "      <th>56635</th>\n",
       "      <td>RESIDENTIAL CONDO</td>\n",
       "      <td>700 12TH  AVE S</td>\n",
       "      <td>1008.0</td>\n",
       "      <td>NASHVILLE</td>\n",
       "      <td>2016-10-27</td>\n",
       "      <td>330000</td>\n",
       "    </tr>\n",
       "  </tbody>\n",
       "</table>\n",
       "<p>56636 rows × 6 columns</p>\n",
       "</div>"
      ],
      "text/plain": [
       "                Land Use   Property Address Suite/ Condo   # Property City  \\\n",
       "0      RESIDENTIAL CONDO    1208  3RD AVE S                8     NASHVILLE   \n",
       "1          SINGLE FAMILY   1802  STEWART PL              NaN     NASHVILLE   \n",
       "2          SINGLE FAMILY  2761  ROSEDALE PL              NaN     NASHVILLE   \n",
       "3          SINGLE FAMILY  224  PEACHTREE ST              NaN     NASHVILLE   \n",
       "4          SINGLE FAMILY      316  LUTIE ST              NaN     NASHVILLE   \n",
       "...                  ...                ...              ...           ...   \n",
       "56631  RESIDENTIAL CONDO    320 11TH  AVE S            274.0     NASHVILLE   \n",
       "56632  RESIDENTIAL CONDO    700 12TH  AVE S            608.0     NASHVILLE   \n",
       "56633  RESIDENTIAL CONDO    700 12TH  AVE S            613.0     NASHVILLE   \n",
       "56634  RESIDENTIAL CONDO    700 12TH  AVE S            708.0     NASHVILLE   \n",
       "56635  RESIDENTIAL CONDO    700 12TH  AVE S           1008.0     NASHVILLE   \n",
       "\n",
       "        Sale Date  Sale Price  \n",
       "0      2013-01-24      132000  \n",
       "1      2013-01-11      191500  \n",
       "2      2013-01-18      202000  \n",
       "3      2013-01-18       32000  \n",
       "4      2013-01-23      102000  \n",
       "...           ...         ...  \n",
       "56631  2016-10-06      210000  \n",
       "56632  2016-10-25      338000  \n",
       "56633  2016-10-04      742000  \n",
       "56634  2016-10-26      320000  \n",
       "56635  2016-10-27      330000  \n",
       "\n",
       "[56636 rows x 6 columns]"
      ]
     },
     "execution_count": 21,
     "metadata": {},
     "output_type": "execute_result"
    }
   ],
   "source": [
    "ds_frame = df.iloc[:, 3:9]\n",
    "ds_frame"
   ]
  },
  {
   "cell_type": "markdown",
   "id": "c089ca1f",
   "metadata": {},
   "source": [
    "#### Drop less needed raws from dataframe\n",
    "\n",
    "this is what will aid us in making the decion tree model"
   ]
  },
  {
   "cell_type": "code",
   "execution_count": 22,
   "id": "c205944f",
   "metadata": {},
   "outputs": [
    {
     "data": {
      "text/html": [
       "<div>\n",
       "<style scoped>\n",
       "    .dataframe tbody tr th:only-of-type {\n",
       "        vertical-align: middle;\n",
       "    }\n",
       "\n",
       "    .dataframe tbody tr th {\n",
       "        vertical-align: top;\n",
       "    }\n",
       "\n",
       "    .dataframe thead th {\n",
       "        text-align: right;\n",
       "    }\n",
       "</style>\n",
       "<table border=\"1\" class=\"dataframe\">\n",
       "  <thead>\n",
       "    <tr style=\"text-align: right;\">\n",
       "      <th></th>\n",
       "      <th>Land Use</th>\n",
       "      <th>Property City</th>\n",
       "      <th>Sale Price</th>\n",
       "    </tr>\n",
       "  </thead>\n",
       "  <tbody>\n",
       "    <tr>\n",
       "      <th>56633</th>\n",
       "      <td>RESIDENTIAL CONDO</td>\n",
       "      <td>NASHVILLE</td>\n",
       "      <td>742000</td>\n",
       "    </tr>\n",
       "    <tr>\n",
       "      <th>56634</th>\n",
       "      <td>RESIDENTIAL CONDO</td>\n",
       "      <td>NASHVILLE</td>\n",
       "      <td>320000</td>\n",
       "    </tr>\n",
       "    <tr>\n",
       "      <th>56635</th>\n",
       "      <td>RESIDENTIAL CONDO</td>\n",
       "      <td>NASHVILLE</td>\n",
       "      <td>330000</td>\n",
       "    </tr>\n",
       "  </tbody>\n",
       "</table>\n",
       "</div>"
      ],
      "text/plain": [
       "                Land Use Property City  Sale Price\n",
       "56633  RESIDENTIAL CONDO     NASHVILLE      742000\n",
       "56634  RESIDENTIAL CONDO     NASHVILLE      320000\n",
       "56635  RESIDENTIAL CONDO     NASHVILLE      330000"
      ]
     },
     "execution_count": 22,
     "metadata": {},
     "output_type": "execute_result"
    }
   ],
   "source": [
    "new_droped = ds_frame.drop(['Property Address','Suite/ Condo   #','Sale Date'],axis='columns')\n",
    "new_droped.tail(3)"
   ]
  },
  {
   "cell_type": "markdown",
   "id": "ef8fca52",
   "metadata": {},
   "source": [
    "convert sale price greater than 700k to 1 and less than 700k to 0 "
   ]
  },
  {
   "cell_type": "code",
   "execution_count": 23,
   "id": "3b2be66e",
   "metadata": {},
   "outputs": [],
   "source": [
    "def loop_all(array):\n",
    "    nw = []\n",
    "    for m in array:\n",
    "        if(m > 700000):\n",
    "            nw.append(1)\n",
    "        else:\n",
    "            nw.append(0)\n",
    "    return nw"
   ]
  },
  {
   "cell_type": "code",
   "execution_count": 24,
   "id": "a0da9409",
   "metadata": {},
   "outputs": [
    {
     "data": {
      "text/html": [
       "<div>\n",
       "<style scoped>\n",
       "    .dataframe tbody tr th:only-of-type {\n",
       "        vertical-align: middle;\n",
       "    }\n",
       "\n",
       "    .dataframe tbody tr th {\n",
       "        vertical-align: top;\n",
       "    }\n",
       "\n",
       "    .dataframe thead th {\n",
       "        text-align: right;\n",
       "    }\n",
       "</style>\n",
       "<table border=\"1\" class=\"dataframe\">\n",
       "  <thead>\n",
       "    <tr style=\"text-align: right;\">\n",
       "      <th></th>\n",
       "      <th>Land Use</th>\n",
       "      <th>Property Address</th>\n",
       "      <th>Suite/ Condo   #</th>\n",
       "      <th>Property City</th>\n",
       "      <th>Sale Date</th>\n",
       "      <th>Sale Price</th>\n",
       "      <th>new Sale Price</th>\n",
       "    </tr>\n",
       "  </thead>\n",
       "  <tbody>\n",
       "    <tr>\n",
       "      <th>0</th>\n",
       "      <td>RESIDENTIAL CONDO</td>\n",
       "      <td>1208  3RD AVE S</td>\n",
       "      <td>8</td>\n",
       "      <td>NASHVILLE</td>\n",
       "      <td>2013-01-24</td>\n",
       "      <td>132000</td>\n",
       "      <td>0</td>\n",
       "    </tr>\n",
       "    <tr>\n",
       "      <th>1</th>\n",
       "      <td>SINGLE FAMILY</td>\n",
       "      <td>1802  STEWART PL</td>\n",
       "      <td>NaN</td>\n",
       "      <td>NASHVILLE</td>\n",
       "      <td>2013-01-11</td>\n",
       "      <td>191500</td>\n",
       "      <td>0</td>\n",
       "    </tr>\n",
       "    <tr>\n",
       "      <th>2</th>\n",
       "      <td>SINGLE FAMILY</td>\n",
       "      <td>2761  ROSEDALE PL</td>\n",
       "      <td>NaN</td>\n",
       "      <td>NASHVILLE</td>\n",
       "      <td>2013-01-18</td>\n",
       "      <td>202000</td>\n",
       "      <td>0</td>\n",
       "    </tr>\n",
       "    <tr>\n",
       "      <th>3</th>\n",
       "      <td>SINGLE FAMILY</td>\n",
       "      <td>224  PEACHTREE ST</td>\n",
       "      <td>NaN</td>\n",
       "      <td>NASHVILLE</td>\n",
       "      <td>2013-01-18</td>\n",
       "      <td>32000</td>\n",
       "      <td>0</td>\n",
       "    </tr>\n",
       "    <tr>\n",
       "      <th>4</th>\n",
       "      <td>SINGLE FAMILY</td>\n",
       "      <td>316  LUTIE ST</td>\n",
       "      <td>NaN</td>\n",
       "      <td>NASHVILLE</td>\n",
       "      <td>2013-01-23</td>\n",
       "      <td>102000</td>\n",
       "      <td>0</td>\n",
       "    </tr>\n",
       "    <tr>\n",
       "      <th>...</th>\n",
       "      <td>...</td>\n",
       "      <td>...</td>\n",
       "      <td>...</td>\n",
       "      <td>...</td>\n",
       "      <td>...</td>\n",
       "      <td>...</td>\n",
       "      <td>...</td>\n",
       "    </tr>\n",
       "    <tr>\n",
       "      <th>56631</th>\n",
       "      <td>RESIDENTIAL CONDO</td>\n",
       "      <td>320 11TH  AVE S</td>\n",
       "      <td>274.0</td>\n",
       "      <td>NASHVILLE</td>\n",
       "      <td>2016-10-06</td>\n",
       "      <td>210000</td>\n",
       "      <td>0</td>\n",
       "    </tr>\n",
       "    <tr>\n",
       "      <th>56632</th>\n",
       "      <td>RESIDENTIAL CONDO</td>\n",
       "      <td>700 12TH  AVE S</td>\n",
       "      <td>608.0</td>\n",
       "      <td>NASHVILLE</td>\n",
       "      <td>2016-10-25</td>\n",
       "      <td>338000</td>\n",
       "      <td>0</td>\n",
       "    </tr>\n",
       "    <tr>\n",
       "      <th>56633</th>\n",
       "      <td>RESIDENTIAL CONDO</td>\n",
       "      <td>700 12TH  AVE S</td>\n",
       "      <td>613.0</td>\n",
       "      <td>NASHVILLE</td>\n",
       "      <td>2016-10-04</td>\n",
       "      <td>742000</td>\n",
       "      <td>1</td>\n",
       "    </tr>\n",
       "    <tr>\n",
       "      <th>56634</th>\n",
       "      <td>RESIDENTIAL CONDO</td>\n",
       "      <td>700 12TH  AVE S</td>\n",
       "      <td>708.0</td>\n",
       "      <td>NASHVILLE</td>\n",
       "      <td>2016-10-26</td>\n",
       "      <td>320000</td>\n",
       "      <td>0</td>\n",
       "    </tr>\n",
       "    <tr>\n",
       "      <th>56635</th>\n",
       "      <td>RESIDENTIAL CONDO</td>\n",
       "      <td>700 12TH  AVE S</td>\n",
       "      <td>1008.0</td>\n",
       "      <td>NASHVILLE</td>\n",
       "      <td>2016-10-27</td>\n",
       "      <td>330000</td>\n",
       "      <td>0</td>\n",
       "    </tr>\n",
       "  </tbody>\n",
       "</table>\n",
       "<p>56636 rows × 7 columns</p>\n",
       "</div>"
      ],
      "text/plain": [
       "                Land Use   Property Address Suite/ Condo   # Property City  \\\n",
       "0      RESIDENTIAL CONDO    1208  3RD AVE S                8     NASHVILLE   \n",
       "1          SINGLE FAMILY   1802  STEWART PL              NaN     NASHVILLE   \n",
       "2          SINGLE FAMILY  2761  ROSEDALE PL              NaN     NASHVILLE   \n",
       "3          SINGLE FAMILY  224  PEACHTREE ST              NaN     NASHVILLE   \n",
       "4          SINGLE FAMILY      316  LUTIE ST              NaN     NASHVILLE   \n",
       "...                  ...                ...              ...           ...   \n",
       "56631  RESIDENTIAL CONDO    320 11TH  AVE S            274.0     NASHVILLE   \n",
       "56632  RESIDENTIAL CONDO    700 12TH  AVE S            608.0     NASHVILLE   \n",
       "56633  RESIDENTIAL CONDO    700 12TH  AVE S            613.0     NASHVILLE   \n",
       "56634  RESIDENTIAL CONDO    700 12TH  AVE S            708.0     NASHVILLE   \n",
       "56635  RESIDENTIAL CONDO    700 12TH  AVE S           1008.0     NASHVILLE   \n",
       "\n",
       "        Sale Date  Sale Price  new Sale Price  \n",
       "0      2013-01-24      132000               0  \n",
       "1      2013-01-11      191500               0  \n",
       "2      2013-01-18      202000               0  \n",
       "3      2013-01-18       32000               0  \n",
       "4      2013-01-23      102000               0  \n",
       "...           ...         ...             ...  \n",
       "56631  2016-10-06      210000               0  \n",
       "56632  2016-10-25      338000               0  \n",
       "56633  2016-10-04      742000               1  \n",
       "56634  2016-10-26      320000               0  \n",
       "56635  2016-10-27      330000               0  \n",
       "\n",
       "[56636 rows x 7 columns]"
      ]
     },
     "execution_count": 24,
     "metadata": {},
     "output_type": "execute_result"
    }
   ],
   "source": [
    "ds_frame['new Sale Price'] = loop_all(ds_frame['Sale Price'])\n",
    "ds_frame"
   ]
  },
  {
   "cell_type": "markdown",
   "id": "b82bb4f6",
   "metadata": {},
   "source": [
    "### creating the target"
   ]
  },
  {
   "cell_type": "code",
   "execution_count": 25,
   "id": "2d72d2c2",
   "metadata": {},
   "outputs": [
    {
     "data": {
      "text/plain": [
       "56628    0\n",
       "56629    0\n",
       "56630    0\n",
       "56631    0\n",
       "56632    0\n",
       "56633    1\n",
       "56634    0\n",
       "56635    0\n",
       "Name: new Sale Price, dtype: int64"
      ]
     },
     "execution_count": 25,
     "metadata": {},
     "output_type": "execute_result"
    }
   ],
   "source": [
    "target = ds_frame['new Sale Price']\n",
    "target.tail(8)"
   ]
  },
  {
   "cell_type": "markdown",
   "id": "5a56c50a",
   "metadata": {},
   "source": [
    "creating labels for other variables"
   ]
  },
  {
   "cell_type": "code",
   "execution_count": 26,
   "id": "cb5956c4",
   "metadata": {},
   "outputs": [],
   "source": [
    "from sklearn.preprocessing import LabelEncoder\n",
    "land_use = LabelEncoder()\n",
    "property_ = LabelEncoder()\n"
   ]
  },
  {
   "cell_type": "markdown",
   "id": "8a57ba35",
   "metadata": {},
   "source": [
    "input the labels in the dataframe"
   ]
  },
  {
   "cell_type": "code",
   "execution_count": 27,
   "id": "3b751c28",
   "metadata": {},
   "outputs": [
    {
     "data": {
      "text/html": [
       "<div>\n",
       "<style scoped>\n",
       "    .dataframe tbody tr th:only-of-type {\n",
       "        vertical-align: middle;\n",
       "    }\n",
       "\n",
       "    .dataframe tbody tr th {\n",
       "        vertical-align: top;\n",
       "    }\n",
       "\n",
       "    .dataframe thead th {\n",
       "        text-align: right;\n",
       "    }\n",
       "</style>\n",
       "<table border=\"1\" class=\"dataframe\">\n",
       "  <thead>\n",
       "    <tr style=\"text-align: right;\">\n",
       "      <th></th>\n",
       "      <th>Land Use</th>\n",
       "      <th>Property Address</th>\n",
       "      <th>Suite/ Condo   #</th>\n",
       "      <th>Property City</th>\n",
       "      <th>Sale Date</th>\n",
       "      <th>Sale Price</th>\n",
       "      <th>new Sale Price</th>\n",
       "      <th>land_use</th>\n",
       "      <th>property_city</th>\n",
       "    </tr>\n",
       "  </thead>\n",
       "  <tbody>\n",
       "    <tr>\n",
       "      <th>0</th>\n",
       "      <td>RESIDENTIAL CONDO</td>\n",
       "      <td>1208  3RD AVE S</td>\n",
       "      <td>8</td>\n",
       "      <td>NASHVILLE</td>\n",
       "      <td>2013-01-24</td>\n",
       "      <td>132000</td>\n",
       "      <td>0</td>\n",
       "      <td>24</td>\n",
       "      <td>9</td>\n",
       "    </tr>\n",
       "    <tr>\n",
       "      <th>1</th>\n",
       "      <td>SINGLE FAMILY</td>\n",
       "      <td>1802  STEWART PL</td>\n",
       "      <td>NaN</td>\n",
       "      <td>NASHVILLE</td>\n",
       "      <td>2013-01-11</td>\n",
       "      <td>191500</td>\n",
       "      <td>0</td>\n",
       "      <td>26</td>\n",
       "      <td>9</td>\n",
       "    </tr>\n",
       "    <tr>\n",
       "      <th>2</th>\n",
       "      <td>SINGLE FAMILY</td>\n",
       "      <td>2761  ROSEDALE PL</td>\n",
       "      <td>NaN</td>\n",
       "      <td>NASHVILLE</td>\n",
       "      <td>2013-01-18</td>\n",
       "      <td>202000</td>\n",
       "      <td>0</td>\n",
       "      <td>26</td>\n",
       "      <td>9</td>\n",
       "    </tr>\n",
       "    <tr>\n",
       "      <th>3</th>\n",
       "      <td>SINGLE FAMILY</td>\n",
       "      <td>224  PEACHTREE ST</td>\n",
       "      <td>NaN</td>\n",
       "      <td>NASHVILLE</td>\n",
       "      <td>2013-01-18</td>\n",
       "      <td>32000</td>\n",
       "      <td>0</td>\n",
       "      <td>26</td>\n",
       "      <td>9</td>\n",
       "    </tr>\n",
       "    <tr>\n",
       "      <th>4</th>\n",
       "      <td>SINGLE FAMILY</td>\n",
       "      <td>316  LUTIE ST</td>\n",
       "      <td>NaN</td>\n",
       "      <td>NASHVILLE</td>\n",
       "      <td>2013-01-23</td>\n",
       "      <td>102000</td>\n",
       "      <td>0</td>\n",
       "      <td>26</td>\n",
       "      <td>9</td>\n",
       "    </tr>\n",
       "    <tr>\n",
       "      <th>...</th>\n",
       "      <td>...</td>\n",
       "      <td>...</td>\n",
       "      <td>...</td>\n",
       "      <td>...</td>\n",
       "      <td>...</td>\n",
       "      <td>...</td>\n",
       "      <td>...</td>\n",
       "      <td>...</td>\n",
       "      <td>...</td>\n",
       "    </tr>\n",
       "    <tr>\n",
       "      <th>56631</th>\n",
       "      <td>RESIDENTIAL CONDO</td>\n",
       "      <td>320 11TH  AVE S</td>\n",
       "      <td>274.0</td>\n",
       "      <td>NASHVILLE</td>\n",
       "      <td>2016-10-06</td>\n",
       "      <td>210000</td>\n",
       "      <td>0</td>\n",
       "      <td>24</td>\n",
       "      <td>9</td>\n",
       "    </tr>\n",
       "    <tr>\n",
       "      <th>56632</th>\n",
       "      <td>RESIDENTIAL CONDO</td>\n",
       "      <td>700 12TH  AVE S</td>\n",
       "      <td>608.0</td>\n",
       "      <td>NASHVILLE</td>\n",
       "      <td>2016-10-25</td>\n",
       "      <td>338000</td>\n",
       "      <td>0</td>\n",
       "      <td>24</td>\n",
       "      <td>9</td>\n",
       "    </tr>\n",
       "    <tr>\n",
       "      <th>56633</th>\n",
       "      <td>RESIDENTIAL CONDO</td>\n",
       "      <td>700 12TH  AVE S</td>\n",
       "      <td>613.0</td>\n",
       "      <td>NASHVILLE</td>\n",
       "      <td>2016-10-04</td>\n",
       "      <td>742000</td>\n",
       "      <td>1</td>\n",
       "      <td>24</td>\n",
       "      <td>9</td>\n",
       "    </tr>\n",
       "    <tr>\n",
       "      <th>56634</th>\n",
       "      <td>RESIDENTIAL CONDO</td>\n",
       "      <td>700 12TH  AVE S</td>\n",
       "      <td>708.0</td>\n",
       "      <td>NASHVILLE</td>\n",
       "      <td>2016-10-26</td>\n",
       "      <td>320000</td>\n",
       "      <td>0</td>\n",
       "      <td>24</td>\n",
       "      <td>9</td>\n",
       "    </tr>\n",
       "    <tr>\n",
       "      <th>56635</th>\n",
       "      <td>RESIDENTIAL CONDO</td>\n",
       "      <td>700 12TH  AVE S</td>\n",
       "      <td>1008.0</td>\n",
       "      <td>NASHVILLE</td>\n",
       "      <td>2016-10-27</td>\n",
       "      <td>330000</td>\n",
       "      <td>0</td>\n",
       "      <td>24</td>\n",
       "      <td>9</td>\n",
       "    </tr>\n",
       "  </tbody>\n",
       "</table>\n",
       "<p>56636 rows × 9 columns</p>\n",
       "</div>"
      ],
      "text/plain": [
       "                Land Use   Property Address Suite/ Condo   # Property City  \\\n",
       "0      RESIDENTIAL CONDO    1208  3RD AVE S                8     NASHVILLE   \n",
       "1          SINGLE FAMILY   1802  STEWART PL              NaN     NASHVILLE   \n",
       "2          SINGLE FAMILY  2761  ROSEDALE PL              NaN     NASHVILLE   \n",
       "3          SINGLE FAMILY  224  PEACHTREE ST              NaN     NASHVILLE   \n",
       "4          SINGLE FAMILY      316  LUTIE ST              NaN     NASHVILLE   \n",
       "...                  ...                ...              ...           ...   \n",
       "56631  RESIDENTIAL CONDO    320 11TH  AVE S            274.0     NASHVILLE   \n",
       "56632  RESIDENTIAL CONDO    700 12TH  AVE S            608.0     NASHVILLE   \n",
       "56633  RESIDENTIAL CONDO    700 12TH  AVE S            613.0     NASHVILLE   \n",
       "56634  RESIDENTIAL CONDO    700 12TH  AVE S            708.0     NASHVILLE   \n",
       "56635  RESIDENTIAL CONDO    700 12TH  AVE S           1008.0     NASHVILLE   \n",
       "\n",
       "        Sale Date  Sale Price  new Sale Price  land_use  property_city  \n",
       "0      2013-01-24      132000               0        24              9  \n",
       "1      2013-01-11      191500               0        26              9  \n",
       "2      2013-01-18      202000               0        26              9  \n",
       "3      2013-01-18       32000               0        26              9  \n",
       "4      2013-01-23      102000               0        26              9  \n",
       "...           ...         ...             ...       ...            ...  \n",
       "56631  2016-10-06      210000               0        24              9  \n",
       "56632  2016-10-25      338000               0        24              9  \n",
       "56633  2016-10-04      742000               1        24              9  \n",
       "56634  2016-10-26      320000               0        24              9  \n",
       "56635  2016-10-27      330000               0        24              9  \n",
       "\n",
       "[56636 rows x 9 columns]"
      ]
     },
     "execution_count": 27,
     "metadata": {},
     "output_type": "execute_result"
    }
   ],
   "source": [
    "ds_frame['land_use'] = land_use.fit_transform(ds_frame['Land Use'])\n",
    "ds_frame['property_city'] = property_.fit_transform(ds_frame['Property City'])\n",
    "ds_frame\n"
   ]
  },
  {
   "cell_type": "markdown",
   "id": "9b9366e6",
   "metadata": {},
   "source": [
    "drop other values since we have transformed the labels into digit labels"
   ]
  },
  {
   "cell_type": "code",
   "execution_count": 28,
   "id": "15b0f8fa",
   "metadata": {},
   "outputs": [
    {
     "data": {
      "text/html": [
       "<div>\n",
       "<style scoped>\n",
       "    .dataframe tbody tr th:only-of-type {\n",
       "        vertical-align: middle;\n",
       "    }\n",
       "\n",
       "    .dataframe tbody tr th {\n",
       "        vertical-align: top;\n",
       "    }\n",
       "\n",
       "    .dataframe thead th {\n",
       "        text-align: right;\n",
       "    }\n",
       "</style>\n",
       "<table border=\"1\" class=\"dataframe\">\n",
       "  <thead>\n",
       "    <tr style=\"text-align: right;\">\n",
       "      <th></th>\n",
       "      <th>land_use</th>\n",
       "      <th>property_city</th>\n",
       "    </tr>\n",
       "  </thead>\n",
       "  <tbody>\n",
       "    <tr>\n",
       "      <th>0</th>\n",
       "      <td>24</td>\n",
       "      <td>9</td>\n",
       "    </tr>\n",
       "    <tr>\n",
       "      <th>1</th>\n",
       "      <td>26</td>\n",
       "      <td>9</td>\n",
       "    </tr>\n",
       "    <tr>\n",
       "      <th>2</th>\n",
       "      <td>26</td>\n",
       "      <td>9</td>\n",
       "    </tr>\n",
       "    <tr>\n",
       "      <th>3</th>\n",
       "      <td>26</td>\n",
       "      <td>9</td>\n",
       "    </tr>\n",
       "    <tr>\n",
       "      <th>4</th>\n",
       "      <td>26</td>\n",
       "      <td>9</td>\n",
       "    </tr>\n",
       "    <tr>\n",
       "      <th>...</th>\n",
       "      <td>...</td>\n",
       "      <td>...</td>\n",
       "    </tr>\n",
       "    <tr>\n",
       "      <th>56631</th>\n",
       "      <td>24</td>\n",
       "      <td>9</td>\n",
       "    </tr>\n",
       "    <tr>\n",
       "      <th>56632</th>\n",
       "      <td>24</td>\n",
       "      <td>9</td>\n",
       "    </tr>\n",
       "    <tr>\n",
       "      <th>56633</th>\n",
       "      <td>24</td>\n",
       "      <td>9</td>\n",
       "    </tr>\n",
       "    <tr>\n",
       "      <th>56634</th>\n",
       "      <td>24</td>\n",
       "      <td>9</td>\n",
       "    </tr>\n",
       "    <tr>\n",
       "      <th>56635</th>\n",
       "      <td>24</td>\n",
       "      <td>9</td>\n",
       "    </tr>\n",
       "  </tbody>\n",
       "</table>\n",
       "<p>56636 rows × 2 columns</p>\n",
       "</div>"
      ],
      "text/plain": [
       "       land_use  property_city\n",
       "0            24              9\n",
       "1            26              9\n",
       "2            26              9\n",
       "3            26              9\n",
       "4            26              9\n",
       "...         ...            ...\n",
       "56631        24              9\n",
       "56632        24              9\n",
       "56633        24              9\n",
       "56634        24              9\n",
       "56635        24              9\n",
       "\n",
       "[56636 rows x 2 columns]"
      ]
     },
     "execution_count": 28,
     "metadata": {},
     "output_type": "execute_result"
    }
   ],
   "source": [
    "inputs_n = ds_frame.drop(['new Sale Price','Land Use','Property City','Property Address','Suite/ Condo   #','Sale Date','Sale Date','Sale Price'],axis='columns')\n",
    "inputs_n"
   ]
  },
  {
   "cell_type": "markdown",
   "id": "8b5373c6",
   "metadata": {},
   "source": [
    "### import sklearn decision tree classifier"
   ]
  },
  {
   "cell_type": "code",
   "execution_count": 29,
   "id": "fa69f458",
   "metadata": {},
   "outputs": [],
   "source": [
    "from sklearn import tree\n",
    "model = tree.DecisionTreeClassifier()"
   ]
  },
  {
   "cell_type": "markdown",
   "id": "48f0aeff",
   "metadata": {},
   "source": [
    "### fitting decision tree classifier model"
   ]
  },
  {
   "cell_type": "code",
   "execution_count": 30,
   "id": "71677df8",
   "metadata": {},
   "outputs": [
    {
     "data": {
      "text/html": [
       "<style>#sk-container-id-1 {color: black;background-color: white;}#sk-container-id-1 pre{padding: 0;}#sk-container-id-1 div.sk-toggleable {background-color: white;}#sk-container-id-1 label.sk-toggleable__label {cursor: pointer;display: block;width: 100%;margin-bottom: 0;padding: 0.3em;box-sizing: border-box;text-align: center;}#sk-container-id-1 label.sk-toggleable__label-arrow:before {content: \"▸\";float: left;margin-right: 0.25em;color: #696969;}#sk-container-id-1 label.sk-toggleable__label-arrow:hover:before {color: black;}#sk-container-id-1 div.sk-estimator:hover label.sk-toggleable__label-arrow:before {color: black;}#sk-container-id-1 div.sk-toggleable__content {max-height: 0;max-width: 0;overflow: hidden;text-align: left;background-color: #f0f8ff;}#sk-container-id-1 div.sk-toggleable__content pre {margin: 0.2em;color: black;border-radius: 0.25em;background-color: #f0f8ff;}#sk-container-id-1 input.sk-toggleable__control:checked~div.sk-toggleable__content {max-height: 200px;max-width: 100%;overflow: auto;}#sk-container-id-1 input.sk-toggleable__control:checked~label.sk-toggleable__label-arrow:before {content: \"▾\";}#sk-container-id-1 div.sk-estimator input.sk-toggleable__control:checked~label.sk-toggleable__label {background-color: #d4ebff;}#sk-container-id-1 div.sk-label input.sk-toggleable__control:checked~label.sk-toggleable__label {background-color: #d4ebff;}#sk-container-id-1 input.sk-hidden--visually {border: 0;clip: rect(1px 1px 1px 1px);clip: rect(1px, 1px, 1px, 1px);height: 1px;margin: -1px;overflow: hidden;padding: 0;position: absolute;width: 1px;}#sk-container-id-1 div.sk-estimator {font-family: monospace;background-color: #f0f8ff;border: 1px dotted black;border-radius: 0.25em;box-sizing: border-box;margin-bottom: 0.5em;}#sk-container-id-1 div.sk-estimator:hover {background-color: #d4ebff;}#sk-container-id-1 div.sk-parallel-item::after {content: \"\";width: 100%;border-bottom: 1px solid gray;flex-grow: 1;}#sk-container-id-1 div.sk-label:hover label.sk-toggleable__label {background-color: #d4ebff;}#sk-container-id-1 div.sk-serial::before {content: \"\";position: absolute;border-left: 1px solid gray;box-sizing: border-box;top: 0;bottom: 0;left: 50%;z-index: 0;}#sk-container-id-1 div.sk-serial {display: flex;flex-direction: column;align-items: center;background-color: white;padding-right: 0.2em;padding-left: 0.2em;position: relative;}#sk-container-id-1 div.sk-item {position: relative;z-index: 1;}#sk-container-id-1 div.sk-parallel {display: flex;align-items: stretch;justify-content: center;background-color: white;position: relative;}#sk-container-id-1 div.sk-item::before, #sk-container-id-1 div.sk-parallel-item::before {content: \"\";position: absolute;border-left: 1px solid gray;box-sizing: border-box;top: 0;bottom: 0;left: 50%;z-index: -1;}#sk-container-id-1 div.sk-parallel-item {display: flex;flex-direction: column;z-index: 1;position: relative;background-color: white;}#sk-container-id-1 div.sk-parallel-item:first-child::after {align-self: flex-end;width: 50%;}#sk-container-id-1 div.sk-parallel-item:last-child::after {align-self: flex-start;width: 50%;}#sk-container-id-1 div.sk-parallel-item:only-child::after {width: 0;}#sk-container-id-1 div.sk-dashed-wrapped {border: 1px dashed gray;margin: 0 0.4em 0.5em 0.4em;box-sizing: border-box;padding-bottom: 0.4em;background-color: white;}#sk-container-id-1 div.sk-label label {font-family: monospace;font-weight: bold;display: inline-block;line-height: 1.2em;}#sk-container-id-1 div.sk-label-container {text-align: center;}#sk-container-id-1 div.sk-container {/* jupyter's `normalize.less` sets `[hidden] { display: none; }` but bootstrap.min.css set `[hidden] { display: none !important; }` so we also need the `!important` here to be able to override the default hidden behavior on the sphinx rendered scikit-learn.org. See: https://github.com/scikit-learn/scikit-learn/issues/21755 */display: inline-block !important;position: relative;}#sk-container-id-1 div.sk-text-repr-fallback {display: none;}</style><div id=\"sk-container-id-1\" class=\"sk-top-container\"><div class=\"sk-text-repr-fallback\"><pre>DecisionTreeClassifier()</pre><b>In a Jupyter environment, please rerun this cell to show the HTML representation or trust the notebook. <br />On GitHub, the HTML representation is unable to render, please try loading this page with nbviewer.org.</b></div><div class=\"sk-container\" hidden><div class=\"sk-item\"><div class=\"sk-estimator sk-toggleable\"><input class=\"sk-toggleable__control sk-hidden--visually\" id=\"sk-estimator-id-1\" type=\"checkbox\" checked><label for=\"sk-estimator-id-1\" class=\"sk-toggleable__label sk-toggleable__label-arrow\">DecisionTreeClassifier</label><div class=\"sk-toggleable__content\"><pre>DecisionTreeClassifier()</pre></div></div></div></div></div>"
      ],
      "text/plain": [
       "DecisionTreeClassifier()"
      ]
     },
     "execution_count": 30,
     "metadata": {},
     "output_type": "execute_result"
    }
   ],
   "source": [
    "model.fit(inputs_n, target)"
   ]
  },
  {
   "cell_type": "markdown",
   "id": "d3bf7319",
   "metadata": {},
   "source": [
    "### checking the accuracy score of the model"
   ]
  },
  {
   "cell_type": "code",
   "execution_count": 31,
   "id": "8a4a0f74",
   "metadata": {},
   "outputs": [
    {
     "data": {
      "text/plain": [
       "0.944717141041034"
      ]
     },
     "execution_count": 31,
     "metadata": {},
     "output_type": "execute_result"
    }
   ],
   "source": [
    "model.score(inputs_n,target)"
   ]
  },
  {
   "cell_type": "markdown",
   "id": "273a6a29",
   "metadata": {},
   "source": [
    "* since the accuracy is less 0.056 then the model is a good fit"
   ]
  },
  {
   "cell_type": "markdown",
   "id": "5f108874",
   "metadata": {},
   "source": [
    "## decision tree prediction\n"
   ]
  },
  {
   "cell_type": "markdown",
   "id": "f95633d4",
   "metadata": {},
   "source": [
    "is resident condo land use and nashville city greater than 700k?"
   ]
  },
  {
   "cell_type": "code",
   "execution_count": 32,
   "id": "ad3d1545",
   "metadata": {},
   "outputs": [
    {
     "name": "stderr",
     "output_type": "stream",
     "text": [
      "/home/lyrics/Desktop/client_project/machine_learning/4_5866234725659577923/env/lib/python3.10/site-packages/sklearn/base.py:450: UserWarning: X does not have valid feature names, but DecisionTreeClassifier was fitted with feature names\n",
      "  warnings.warn(\n"
     ]
    },
    {
     "data": {
      "text/plain": [
       "array([0])"
      ]
     },
     "execution_count": 32,
     "metadata": {},
     "output_type": "execute_result"
    }
   ],
   "source": [
    "model.predict([[24,9]])"
   ]
  },
  {
   "cell_type": "markdown",
   "id": "e398b3c6",
   "metadata": {},
   "source": [
    "since the array return 0 we can see that resident house mostly are less than 700k"
   ]
  },
  {
   "cell_type": "markdown",
   "id": "2c6fb262",
   "metadata": {},
   "source": [
    "# Random Forest Model"
   ]
  },
  {
   "cell_type": "code",
   "execution_count": 33,
   "id": "2930232f",
   "metadata": {},
   "outputs": [
    {
     "data": {
      "text/html": [
       "<style>#sk-container-id-2 {color: black;background-color: white;}#sk-container-id-2 pre{padding: 0;}#sk-container-id-2 div.sk-toggleable {background-color: white;}#sk-container-id-2 label.sk-toggleable__label {cursor: pointer;display: block;width: 100%;margin-bottom: 0;padding: 0.3em;box-sizing: border-box;text-align: center;}#sk-container-id-2 label.sk-toggleable__label-arrow:before {content: \"▸\";float: left;margin-right: 0.25em;color: #696969;}#sk-container-id-2 label.sk-toggleable__label-arrow:hover:before {color: black;}#sk-container-id-2 div.sk-estimator:hover label.sk-toggleable__label-arrow:before {color: black;}#sk-container-id-2 div.sk-toggleable__content {max-height: 0;max-width: 0;overflow: hidden;text-align: left;background-color: #f0f8ff;}#sk-container-id-2 div.sk-toggleable__content pre {margin: 0.2em;color: black;border-radius: 0.25em;background-color: #f0f8ff;}#sk-container-id-2 input.sk-toggleable__control:checked~div.sk-toggleable__content {max-height: 200px;max-width: 100%;overflow: auto;}#sk-container-id-2 input.sk-toggleable__control:checked~label.sk-toggleable__label-arrow:before {content: \"▾\";}#sk-container-id-2 div.sk-estimator input.sk-toggleable__control:checked~label.sk-toggleable__label {background-color: #d4ebff;}#sk-container-id-2 div.sk-label input.sk-toggleable__control:checked~label.sk-toggleable__label {background-color: #d4ebff;}#sk-container-id-2 input.sk-hidden--visually {border: 0;clip: rect(1px 1px 1px 1px);clip: rect(1px, 1px, 1px, 1px);height: 1px;margin: -1px;overflow: hidden;padding: 0;position: absolute;width: 1px;}#sk-container-id-2 div.sk-estimator {font-family: monospace;background-color: #f0f8ff;border: 1px dotted black;border-radius: 0.25em;box-sizing: border-box;margin-bottom: 0.5em;}#sk-container-id-2 div.sk-estimator:hover {background-color: #d4ebff;}#sk-container-id-2 div.sk-parallel-item::after {content: \"\";width: 100%;border-bottom: 1px solid gray;flex-grow: 1;}#sk-container-id-2 div.sk-label:hover label.sk-toggleable__label {background-color: #d4ebff;}#sk-container-id-2 div.sk-serial::before {content: \"\";position: absolute;border-left: 1px solid gray;box-sizing: border-box;top: 0;bottom: 0;left: 50%;z-index: 0;}#sk-container-id-2 div.sk-serial {display: flex;flex-direction: column;align-items: center;background-color: white;padding-right: 0.2em;padding-left: 0.2em;position: relative;}#sk-container-id-2 div.sk-item {position: relative;z-index: 1;}#sk-container-id-2 div.sk-parallel {display: flex;align-items: stretch;justify-content: center;background-color: white;position: relative;}#sk-container-id-2 div.sk-item::before, #sk-container-id-2 div.sk-parallel-item::before {content: \"\";position: absolute;border-left: 1px solid gray;box-sizing: border-box;top: 0;bottom: 0;left: 50%;z-index: -1;}#sk-container-id-2 div.sk-parallel-item {display: flex;flex-direction: column;z-index: 1;position: relative;background-color: white;}#sk-container-id-2 div.sk-parallel-item:first-child::after {align-self: flex-end;width: 50%;}#sk-container-id-2 div.sk-parallel-item:last-child::after {align-self: flex-start;width: 50%;}#sk-container-id-2 div.sk-parallel-item:only-child::after {width: 0;}#sk-container-id-2 div.sk-dashed-wrapped {border: 1px dashed gray;margin: 0 0.4em 0.5em 0.4em;box-sizing: border-box;padding-bottom: 0.4em;background-color: white;}#sk-container-id-2 div.sk-label label {font-family: monospace;font-weight: bold;display: inline-block;line-height: 1.2em;}#sk-container-id-2 div.sk-label-container {text-align: center;}#sk-container-id-2 div.sk-container {/* jupyter's `normalize.less` sets `[hidden] { display: none; }` but bootstrap.min.css set `[hidden] { display: none !important; }` so we also need the `!important` here to be able to override the default hidden behavior on the sphinx rendered scikit-learn.org. See: https://github.com/scikit-learn/scikit-learn/issues/21755 */display: inline-block !important;position: relative;}#sk-container-id-2 div.sk-text-repr-fallback {display: none;}</style><div id=\"sk-container-id-2\" class=\"sk-top-container\"><div class=\"sk-text-repr-fallback\"><pre>RandomForestClassifier(n_estimators=20)</pre><b>In a Jupyter environment, please rerun this cell to show the HTML representation or trust the notebook. <br />On GitHub, the HTML representation is unable to render, please try loading this page with nbviewer.org.</b></div><div class=\"sk-container\" hidden><div class=\"sk-item\"><div class=\"sk-estimator sk-toggleable\"><input class=\"sk-toggleable__control sk-hidden--visually\" id=\"sk-estimator-id-2\" type=\"checkbox\" checked><label for=\"sk-estimator-id-2\" class=\"sk-toggleable__label sk-toggleable__label-arrow\">RandomForestClassifier</label><div class=\"sk-toggleable__content\"><pre>RandomForestClassifier(n_estimators=20)</pre></div></div></div></div></div>"
      ],
      "text/plain": [
       "RandomForestClassifier(n_estimators=20)"
      ]
     },
     "execution_count": 33,
     "metadata": {},
     "output_type": "execute_result"
    }
   ],
   "source": [
    "from sklearn.ensemble import RandomForestClassifier\n",
    "model = RandomForestClassifier(n_estimators=20)\n",
    "model.fit(inputs_n,target)"
   ]
  },
  {
   "cell_type": "markdown",
   "id": "50df34a2",
   "metadata": {},
   "source": [
    "checking the score of the random forest "
   ]
  },
  {
   "cell_type": "code",
   "execution_count": 34,
   "id": "8fd31540",
   "metadata": {},
   "outputs": [
    {
     "data": {
      "text/plain": [
       "0.944717141041034"
      ]
     },
     "execution_count": 34,
     "metadata": {},
     "output_type": "execute_result"
    }
   ],
   "source": [
    "model.score(inputs_n,target)"
   ]
  },
  {
   "cell_type": "markdown",
   "id": "39474d42",
   "metadata": {},
   "source": [
    "since the score is atleast 0.944 then we can take it as being a good fit and continue with our prediction"
   ]
  },
  {
   "cell_type": "code",
   "execution_count": 35,
   "id": "2f13383d",
   "metadata": {},
   "outputs": [],
   "source": [
    "y_predicted = model.predict(inputs_n)"
   ]
  },
  {
   "cell_type": "code",
   "execution_count": 36,
   "id": "89ca7939",
   "metadata": {},
   "outputs": [
    {
     "data": {
      "text/plain": [
       "array([[53373,    27],\n",
       "       [ 3104,   132]])"
      ]
     },
     "execution_count": 36,
     "metadata": {},
     "output_type": "execute_result"
    }
   ],
   "source": [
    "from sklearn.metrics import confusion_matrix\n",
    "cm = confusion_matrix(target, y_predicted)\n",
    "cm"
   ]
  },
  {
   "cell_type": "code",
   "execution_count": 37,
   "id": "131a563a",
   "metadata": {},
   "outputs": [
    {
     "data": {
      "text/plain": [
       "Text(69.0, 0.5, 'Truth')"
      ]
     },
     "execution_count": 37,
     "metadata": {},
     "output_type": "execute_result"
    },
    {
     "data": {
      "image/png": "[encoded data removed]",
      "text/plain": [
       "<Figure size 720x504 with 2 Axes>"
      ]
     },
     "metadata": {
      "needs_background": "light"
     },
     "output_type": "display_data"
    }
   ],
   "source": [
    "%matplotlib inline\n",
    "import matplotlib.pyplot as plt\n",
    "import seaborn as sn\n",
    "plt.figure(figsize=(10,7))\n",
    "sn.heatmap(cm, annot=True)\n",
    "plt.xlabel('Predicted')\n",
    "plt.ylabel('Truth')"
   ]
  },
  {
   "cell_type": "markdown",
   "id": "7ca9c17a",
   "metadata": {},
   "source": [
    "# Gradient Boost Model"
   ]
  },
  {
   "cell_type": "markdown",
   "id": "0d463c6d",
   "metadata": {},
   "source": [
    "### import required  values"
   ]
  },
  {
   "cell_type": "code",
   "execution_count": 38,
   "id": "4d365a13",
   "metadata": {},
   "outputs": [],
   "source": [
    "from sklearn.model_selection import train_test_split\n",
    "from sklearn.ensemble import GradientBoostingClassifier\n",
    "from sklearn.model_selection import GridSearchCV\n",
    "from sklearn.metrics import roc_auc_score"
   ]
  },
  {
   "cell_type": "code",
   "execution_count": 39,
   "id": "fc63d2d1",
   "metadata": {},
   "outputs": [
    {
     "name": "stdout",
     "output_type": "stream",
     "text": [
      "      Iter       Train Loss      OOB Improve   Remaining Time \n",
      "         1           0.4294           0.0027            1.78m\n",
      "         2           0.4340           0.0029            1.57m\n",
      "         3           0.4327           0.0017            1.48m\n",
      "         4           0.4300           0.0022            1.43m\n",
      "         5           0.4231           0.0020            1.42m\n",
      "         6           0.4277           0.0008            1.39m\n",
      "         7           0.4220           0.0010            1.37m\n",
      "         8           0.4273           0.0015            1.36m\n",
      "         9           0.4283           0.0013            1.35m\n",
      "        10           0.4191           0.0003            1.34m\n",
      "        20           0.4238           0.0006            1.32m\n",
      "        30           0.4082           0.0002            1.31m\n",
      "        40           0.4085           0.0002            1.30m\n",
      "        50           0.4164           0.0002            1.31m\n",
      "        60           0.4034           0.0001            1.30m\n",
      "        70           0.3943           0.0001            1.37m\n",
      "        80           0.3996           0.0000            1.41m\n",
      "        90           0.3970           0.0000            1.40m\n",
      "       100           0.3940           0.0000            1.38m\n",
      "       200           0.3926          -0.0000            1.29m\n"
     ]
    },
    {
     "data": {
      "text/html": [
       "<style>#sk-container-id-3 {color: black;background-color: white;}#sk-container-id-3 pre{padding: 0;}#sk-container-id-3 div.sk-toggleable {background-color: white;}#sk-container-id-3 label.sk-toggleable__label {cursor: pointer;display: block;width: 100%;margin-bottom: 0;padding: 0.3em;box-sizing: border-box;text-align: center;}#sk-container-id-3 label.sk-toggleable__label-arrow:before {content: \"▸\";float: left;margin-right: 0.25em;color: #696969;}#sk-container-id-3 label.sk-toggleable__label-arrow:hover:before {color: black;}#sk-container-id-3 div.sk-estimator:hover label.sk-toggleable__label-arrow:before {color: black;}#sk-container-id-3 div.sk-toggleable__content {max-height: 0;max-width: 0;overflow: hidden;text-align: left;background-color: #f0f8ff;}#sk-container-id-3 div.sk-toggleable__content pre {margin: 0.2em;color: black;border-radius: 0.25em;background-color: #f0f8ff;}#sk-container-id-3 input.sk-toggleable__control:checked~div.sk-toggleable__content {max-height: 200px;max-width: 100%;overflow: auto;}#sk-container-id-3 input.sk-toggleable__control:checked~label.sk-toggleable__label-arrow:before {content: \"▾\";}#sk-container-id-3 div.sk-estimator input.sk-toggleable__control:checked~label.sk-toggleable__label {background-color: #d4ebff;}#sk-container-id-3 div.sk-label input.sk-toggleable__control:checked~label.sk-toggleable__label {background-color: #d4ebff;}#sk-container-id-3 input.sk-hidden--visually {border: 0;clip: rect(1px 1px 1px 1px);clip: rect(1px, 1px, 1px, 1px);height: 1px;margin: -1px;overflow: hidden;padding: 0;position: absolute;width: 1px;}#sk-container-id-3 div.sk-estimator {font-family: monospace;background-color: #f0f8ff;border: 1px dotted black;border-radius: 0.25em;box-sizing: border-box;margin-bottom: 0.5em;}#sk-container-id-3 div.sk-estimator:hover {background-color: #d4ebff;}#sk-container-id-3 div.sk-parallel-item::after {content: \"\";width: 100%;border-bottom: 1px solid gray;flex-grow: 1;}#sk-container-id-3 div.sk-label:hover label.sk-toggleable__label {background-color: #d4ebff;}#sk-container-id-3 div.sk-serial::before {content: \"\";position: absolute;border-left: 1px solid gray;box-sizing: border-box;top: 0;bottom: 0;left: 50%;z-index: 0;}#sk-container-id-3 div.sk-serial {display: flex;flex-direction: column;align-items: center;background-color: white;padding-right: 0.2em;padding-left: 0.2em;position: relative;}#sk-container-id-3 div.sk-item {position: relative;z-index: 1;}#sk-container-id-3 div.sk-parallel {display: flex;align-items: stretch;justify-content: center;background-color: white;position: relative;}#sk-container-id-3 div.sk-item::before, #sk-container-id-3 div.sk-parallel-item::before {content: \"\";position: absolute;border-left: 1px solid gray;box-sizing: border-box;top: 0;bottom: 0;left: 50%;z-index: -1;}#sk-container-id-3 div.sk-parallel-item {display: flex;flex-direction: column;z-index: 1;position: relative;background-color: white;}#sk-container-id-3 div.sk-parallel-item:first-child::after {align-self: flex-end;width: 50%;}#sk-container-id-3 div.sk-parallel-item:last-child::after {align-self: flex-start;width: 50%;}#sk-container-id-3 div.sk-parallel-item:only-child::after {width: 0;}#sk-container-id-3 div.sk-dashed-wrapped {border: 1px dashed gray;margin: 0 0.4em 0.5em 0.4em;box-sizing: border-box;padding-bottom: 0.4em;background-color: white;}#sk-container-id-3 div.sk-label label {font-family: monospace;font-weight: bold;display: inline-block;line-height: 1.2em;}#sk-container-id-3 div.sk-label-container {text-align: center;}#sk-container-id-3 div.sk-container {/* jupyter's `normalize.less` sets `[hidden] { display: none; }` but bootstrap.min.css set `[hidden] { display: none !important; }` so we also need the `!important` here to be able to override the default hidden behavior on the sphinx rendered scikit-learn.org. See: https://github.com/scikit-learn/scikit-learn/issues/21755 */display: inline-block !important;position: relative;}#sk-container-id-3 div.sk-text-repr-fallback {display: none;}</style><div id=\"sk-container-id-3\" class=\"sk-top-container\"><div class=\"sk-text-repr-fallback\"><pre>GradientBoostingClassifier(learning_rate=0.05, max_features=&#x27;log2&#x27;,\n",
       "                           n_estimators=5000, n_iter_no_change=20,\n",
       "                           subsample=0.5, verbose=1)</pre><b>In a Jupyter environment, please rerun this cell to show the HTML representation or trust the notebook. <br />On GitHub, the HTML representation is unable to render, please try loading this page with nbviewer.org.</b></div><div class=\"sk-container\" hidden><div class=\"sk-item\"><div class=\"sk-estimator sk-toggleable\"><input class=\"sk-toggleable__control sk-hidden--visually\" id=\"sk-estimator-id-3\" type=\"checkbox\" checked><label for=\"sk-estimator-id-3\" class=\"sk-toggleable__label sk-toggleable__label-arrow\">GradientBoostingClassifier</label><div class=\"sk-toggleable__content\"><pre>GradientBoostingClassifier(learning_rate=0.05, max_features=&#x27;log2&#x27;,\n",
       "                           n_estimators=5000, n_iter_no_change=20,\n",
       "                           subsample=0.5, verbose=1)</pre></div></div></div></div></div>"
      ],
      "text/plain": [
       "GradientBoostingClassifier(learning_rate=0.05, max_features='log2',\n",
       "                           n_estimators=5000, n_iter_no_change=20,\n",
       "                           subsample=0.5, verbose=1)"
      ]
     },
     "execution_count": 39,
     "metadata": {},
     "output_type": "execute_result"
    }
   ],
   "source": [
    "model_gbm = GradientBoostingClassifier(n_estimators=5000,\n",
    "                                       learning_rate=0.05,\n",
    "                                       max_depth=3,\n",
    "                                       subsample=0.5,\n",
    "                                       validation_fraction=0.1,\n",
    "                                       n_iter_no_change=20,\n",
    "                                       max_features='log2',\n",
    "                                       verbose=1)\n",
    "model_gbm.fit(inputs_n,target)"
   ]
  },
  {
   "cell_type": "markdown",
   "id": "56739312",
   "metadata": {},
   "source": [
    "- checking for the estimators"
   ]
  },
  {
   "cell_type": "code",
   "execution_count": 40,
   "id": "7ba038d4",
   "metadata": {},
   "outputs": [
    {
     "data": {
      "text/plain": [
       "269"
      ]
     },
     "execution_count": 40,
     "metadata": {},
     "output_type": "execute_result"
    }
   ],
   "source": [
    "len(model_gbm.estimators_)"
   ]
  },
  {
   "cell_type": "code",
   "execution_count": 41,
   "id": "ac034b7a",
   "metadata": {},
   "outputs": [],
   "source": [
    "y_valid_pred = model_gbm.predict_proba(inputs_n)[:,1]"
   ]
  },
  {
   "cell_type": "code",
   "execution_count": 42,
   "id": "c457d46f",
   "metadata": {},
   "outputs": [
    {
     "data": {
      "text/plain": [
       "<Figure size 864x360 with 0 Axes>"
      ]
     },
     "execution_count": 42,
     "metadata": {},
     "output_type": "execute_result"
    },
    {
     "data": {
      "text/plain": [
       "<Figure size 864x360 with 0 Axes>"
      ]
     },
     "metadata": {},
     "output_type": "display_data"
    }
   ],
   "source": [
    "plt.figure(figsize=(12,5))"
   ]
  },
  {
   "cell_type": "markdown",
   "id": "461dcc31",
   "metadata": {},
   "source": [
    "## Look at performance with respect to number of trees"
   ]
  },
  {
   "cell_type": "markdown",
   "id": "0e765ab2",
   "metadata": {},
   "source": [
    "staged_predict_proba function allows us to look at predictions at for different number of trees in the model"
   ]
  },
  {
   "cell_type": "code",
   "execution_count": 47,
   "id": "36806943",
   "metadata": {},
   "outputs": [
    {
     "data": {
      "text/plain": [
       "(269, 56636)"
      ]
     },
     "execution_count": 47,
     "metadata": {},
     "output_type": "execute_result"
    }
   ],
   "source": [
    "y_valid_pred_trees = np.stack(list(model_gbm.staged_predict_proba(inputs_n)))[:,:,1]\n",
    "y_valid_pred_trees.shape"
   ]
  },
  {
   "cell_type": "markdown",
   "id": "4080dce8",
   "metadata": {},
   "source": [
    "### plot prediction "
   ]
  },
  {
   "cell_type": "code",
   "execution_count": 52,
   "id": "99ee8b5b",
   "metadata": {},
   "outputs": [
    {
     "data": {
      "image/png": "[encoded data removed]",
      "text/plain": [
       "<Figure size 432x288 with 1 Axes>"
      ]
     },
     "metadata": {
      "needs_background": "light"
     },
     "output_type": "display_data"
    }
   ],
   "source": [
    "plt.plot(inputs_n, label='Valid Data')\n",
    "\n",
    "plt.title('AUC vs Number of Trees')\n",
    "plt.ylabel('AUC')\n",
    "plt.xlabel('Number of Trees')\n",
    "plt.legend()\n",
    "\n",
    "plt.show()"
   ]
  },
  {
   "cell_type": "markdown",
   "id": "3cb30b33",
   "metadata": {},
   "source": [
    "# Bench Marking Metrics"
   ]
  },
  {
   "cell_type": "markdown",
   "id": "172a7c3c",
   "metadata": {},
   "source": [
    "in order to choose the right model to use we shall use model evaluation procedure to accomplish this \n",
    "\n",
    "- we shall thus estimate the likely performance of this model and then we shall use that estimation to choose the right model to use .\n"
   ]
  },
  {
   "cell_type": "markdown",
   "id": "3cd45b16",
   "metadata": {},
   "source": [
    "### 1) train and set on the entire dataset \n",
    "\n",
    "- with this we can be able to see how a given predicted dataset worked as compared to the real dataset\n",
    "- we shall use classifaction accuracy technique to achieve this"
   ]
  },
  {
   "cell_type": "markdown",
   "id": "a48c5515",
   "metadata": {},
   "source": [
    "<em> mean squread error for linear regression</em>"
   ]
  },
  {
   "cell_type": "code",
   "execution_count": 63,
   "id": "a01bd52f",
   "metadata": {},
   "outputs": [],
   "source": [
    "from sklearn import metrics\n",
    "from sklearn.metrics import mean_squared_error"
   ]
  },
  {
   "cell_type": "code",
   "execution_count": 64,
   "id": "e91db099",
   "metadata": {},
   "outputs": [
    {
     "name": "stdout",
     "output_type": "stream",
     "text": [
      "2626003281613673.5\n"
     ]
    }
   ],
   "source": [
    "# calculate errors\n",
    "errors = mean_squared_error(droped_na['Sale Price'], predicted_linear )\n",
    "# report error\n",
    "print(errors)"
   ]
  },
  {
   "cell_type": "markdown",
   "id": "3ddbb33a",
   "metadata": {},
   "source": [
    "<em></em>"
   ]
  },
  {
   "cell_type": "code",
   "execution_count": null,
   "id": "d1773591",
   "metadata": {},
   "outputs": [],
   "source": []
  }
 ],
 "metadata": {
  "kernelspec": {
   "display_name": "Python 3 (ipykernel)",
   "language": "python",
   "name": "python3"
  },
  "language_info": {
   "codemirror_mode": {
    "name": "ipython",
    "version": 3
   },
   "file_extension": ".py",
   "mimetype": "text/x-python",
   "name": "python",
   "nbconvert_exporter": "python",
   "pygments_lexer": "ipython3",
   "version": "3.10.4"
  }
 },
 "nbformat": 4,
 "nbformat_minor": 5
}
